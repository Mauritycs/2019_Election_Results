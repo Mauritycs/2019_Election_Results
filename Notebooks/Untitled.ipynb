{
 "cells": [
  {
   "cell_type": "code",
   "execution_count": 5,
   "metadata": {},
   "outputs": [],
   "source": [
    "from IPython.core.interactiveshell import InteractiveShell\n",
    "InteractiveShell.ast_node_interactivity = \"all\"\n",
    "# InteractiveShell.ast_node_interactivity = \"last_expr\""
   ]
  },
  {
   "cell_type": "code",
   "execution_count": 6,
   "metadata": {},
   "outputs": [],
   "source": [
    "import plotly.plotly as py\n",
    "import plotly.graph_objs as go\n",
    "import pandas as pd\n",
    "import plotly"
   ]
  },
  {
   "cell_type": "code",
   "execution_count": 7,
   "metadata": {},
   "outputs": [],
   "source": [
    "plotly.tools.set_credentials_file(username='ahmedamdg', api_key='ogfSzyLWtDPni5gfWAPn')"
   ]
  },
  {
   "cell_type": "code",
   "execution_count": 8,
   "metadata": {},
   "outputs": [],
   "source": [
    "# import data\n",
    "counties_summary = pd.read_csv('../Data/counties_summary.csv')"
   ]
  },
  {
   "cell_type": "code",
   "execution_count": 9,
   "metadata": {},
   "outputs": [
    {
     "data": {
      "text/html": [
       "<div>\n",
       "<style scoped>\n",
       "    .dataframe tbody tr th:only-of-type {\n",
       "        vertical-align: middle;\n",
       "    }\n",
       "\n",
       "    .dataframe tbody tr th {\n",
       "        vertical-align: top;\n",
       "    }\n",
       "\n",
       "    .dataframe thead th {\n",
       "        text-align: right;\n",
       "    }\n",
       "</style>\n",
       "<table border=\"1\" class=\"dataframe\">\n",
       "  <thead>\n",
       "    <tr style=\"text-align: right;\">\n",
       "      <th></th>\n",
       "      <th>county</th>\n",
       "      <th>total_registered</th>\n",
       "      <th>voted</th>\n",
       "      <th>void</th>\n",
       "      <th>neutral</th>\n",
       "      <th>suffrage</th>\n",
       "      <th>perct_turnout</th>\n",
       "      <th>biram</th>\n",
       "      <th>kane</th>\n",
       "      <th>ghazouani</th>\n",
       "      <th>wavi</th>\n",
       "      <th>mewloud</th>\n",
       "      <th>boubacar</th>\n",
       "    </tr>\n",
       "  </thead>\n",
       "  <tbody>\n",
       "    <tr>\n",
       "      <th>0</th>\n",
       "      <td>Afrique</td>\n",
       "      <td>8178.0</td>\n",
       "      <td>4068.0</td>\n",
       "      <td>125.0</td>\n",
       "      <td>50.0</td>\n",
       "      <td>3893.0</td>\n",
       "      <td>0.497432</td>\n",
       "      <td>1009</td>\n",
       "      <td>250</td>\n",
       "      <td>1188</td>\n",
       "      <td>52</td>\n",
       "      <td>94</td>\n",
       "      <td>1300</td>\n",
       "    </tr>\n",
       "    <tr>\n",
       "      <th>1</th>\n",
       "      <td>Akjoujt</td>\n",
       "      <td>9661.0</td>\n",
       "      <td>5933.0</td>\n",
       "      <td>95.0</td>\n",
       "      <td>64.0</td>\n",
       "      <td>5774.0</td>\n",
       "      <td>0.614119</td>\n",
       "      <td>300</td>\n",
       "      <td>288</td>\n",
       "      <td>3422</td>\n",
       "      <td>14</td>\n",
       "      <td>128</td>\n",
       "      <td>1622</td>\n",
       "    </tr>\n",
       "    <tr>\n",
       "      <th>2</th>\n",
       "      <td>Aleg</td>\n",
       "      <td>52156.0</td>\n",
       "      <td>32328.0</td>\n",
       "      <td>935.0</td>\n",
       "      <td>137.0</td>\n",
       "      <td>31256.0</td>\n",
       "      <td>0.619833</td>\n",
       "      <td>2324</td>\n",
       "      <td>286</td>\n",
       "      <td>20143</td>\n",
       "      <td>49</td>\n",
       "      <td>427</td>\n",
       "      <td>8027</td>\n",
       "    </tr>\n",
       "    <tr>\n",
       "      <th>3</th>\n",
       "      <td>Amourj</td>\n",
       "      <td>35019.0</td>\n",
       "      <td>20004.0</td>\n",
       "      <td>670.0</td>\n",
       "      <td>68.0</td>\n",
       "      <td>19266.0</td>\n",
       "      <td>0.571233</td>\n",
       "      <td>712</td>\n",
       "      <td>84</td>\n",
       "      <td>16804</td>\n",
       "      <td>56</td>\n",
       "      <td>44</td>\n",
       "      <td>1566</td>\n",
       "    </tr>\n",
       "    <tr>\n",
       "      <th>4</th>\n",
       "      <td>Aoujeft</td>\n",
       "      <td>9479.0</td>\n",
       "      <td>5786.0</td>\n",
       "      <td>70.0</td>\n",
       "      <td>24.0</td>\n",
       "      <td>5692.0</td>\n",
       "      <td>0.610402</td>\n",
       "      <td>75</td>\n",
       "      <td>21</td>\n",
       "      <td>4395</td>\n",
       "      <td>9</td>\n",
       "      <td>396</td>\n",
       "      <td>796</td>\n",
       "    </tr>\n",
       "  </tbody>\n",
       "</table>\n",
       "</div>"
      ],
      "text/plain": [
       "    county  total_registered    voted   void  neutral  suffrage  \\\n",
       "0  Afrique            8178.0   4068.0  125.0     50.0    3893.0   \n",
       "1  Akjoujt            9661.0   5933.0   95.0     64.0    5774.0   \n",
       "2     Aleg           52156.0  32328.0  935.0    137.0   31256.0   \n",
       "3   Amourj           35019.0  20004.0  670.0     68.0   19266.0   \n",
       "4  Aoujeft            9479.0   5786.0   70.0     24.0    5692.0   \n",
       "\n",
       "   perct_turnout  biram  kane  ghazouani  wavi  mewloud  boubacar  \n",
       "0       0.497432   1009   250       1188    52       94      1300  \n",
       "1       0.614119    300   288       3422    14      128      1622  \n",
       "2       0.619833   2324   286      20143    49      427      8027  \n",
       "3       0.571233    712    84      16804    56       44      1566  \n",
       "4       0.610402     75    21       4395     9      396       796  "
      ]
     },
     "execution_count": 9,
     "metadata": {},
     "output_type": "execute_result"
    }
   ],
   "source": [
    "counties_summary.head()"
   ]
  },
  {
   "cell_type": "code",
   "execution_count": 10,
   "metadata": {},
   "outputs": [
    {
     "data": {
      "text/html": [
       "<iframe id=\"igraph\" scrolling=\"no\" style=\"border:none;\" seamless=\"seamless\" src=\"https://plot.ly/~ahmedamdg/194.embed\" height=\"525px\" width=\"100%\"></iframe>"
      ],
      "text/plain": [
       "<chart_studio.tools.PlotlyDisplay object>"
      ]
     },
     "execution_count": 10,
     "metadata": {},
     "output_type": "execute_result"
    }
   ],
   "source": [
    "trace1 = go.Bar(\n",
    "    x=['giraffes', 'orangutans', 'monkeys'],\n",
    "    y=[20, 14, 23],\n",
    "    name='SF Zoo'\n",
    ")\n",
    "trace2 = go.Bar(\n",
    "    x=['giraffes', 'orangutans', 'monkeys'],\n",
    "    y=[12, 18, 29],\n",
    "    name='LA Zoo'\n",
    ")\n",
    "\n",
    "data = [trace1, trace2]\n",
    "layout = go.Layout(\n",
    "    barmode='stack',\n",
    "    title = \"this is the title\"\n",
    ")\n",
    "\n",
    "fig = go.Figure(data=data, layout=layout)\n",
    "py.iplot(fig, filename='stacked-bar')"
   ]
  },
  {
   "cell_type": "code",
   "execution_count": null,
   "metadata": {},
   "outputs": [],
   "source": []
  }
 ],
 "metadata": {
  "kernelspec": {
   "display_name": "Python 3",
   "language": "python",
   "name": "python3"
  },
  "language_info": {
   "codemirror_mode": {
    "name": "ipython",
    "version": 3
   },
   "file_extension": ".py",
   "mimetype": "text/x-python",
   "name": "python",
   "nbconvert_exporter": "python",
   "pygments_lexer": "ipython3",
   "version": "3.6.8"
  }
 },
 "nbformat": 4,
 "nbformat_minor": 2
}
