{
 "cells": [
  {
   "cell_type": "code",
   "execution_count": 2,
   "metadata": {},
   "outputs": [],
   "source": [
    "from IPython.core.interactiveshell import InteractiveShell\n",
    "InteractiveShell.ast_node_interactivity = \"all\"\n",
    "# InteractiveShell.ast_node_interactivity = \"last_expr\""
   ]
  },
  {
   "cell_type": "code",
   "execution_count": 4,
   "metadata": {},
   "outputs": [],
   "source": [
    "import pandas as pd\n",
    "import plotly\n",
    "import plotly.plotly as py\n",
    "import plotly.graph_objs as go"
   ]
  },
  {
   "cell_type": "code",
   "execution_count": 5,
   "metadata": {},
   "outputs": [],
   "source": [
    "plotly.tools.set_credentials_file(username='ahmedamdg', api_key='ogfSzyLWtDPni5gfWAPn')"
   ]
  },
  {
   "cell_type": "code",
   "execution_count": 7,
   "metadata": {},
   "outputs": [],
   "source": [
    "# get data \n",
    "path = '../Data/election_data.csv'\n",
    "election_data = pd.read_csv(path)\n",
    "\n",
    "# get rid of unwanted column\n",
    "election_data = election_data.drop('Unnamed: 0', axis=1)"
   ]
  },
  {
   "cell_type": "code",
   "execution_count": 8,
   "metadata": {},
   "outputs": [
    {
     "data": {
      "text/plain": [
       "array(['Guidimagha', 'Tagant', 'Brakna', 'Hodh El Gharbi',\n",
       "       'Dakhlet Nouadhibou', 'Tiris Zemmour', 'Trarza', 'Hodh Chargui',\n",
       "       'Assaba', 'Gorgol', 'Nouakchott Ouest', 'Nouakchott Sud',\n",
       "       'Inchiri', 'Adrar', 'Nouakchott Nord', 'Etranger'], dtype=object)"
      ]
     },
     "execution_count": 8,
     "metadata": {},
     "output_type": "execute_result"
    },
    {
     "data": {
      "text/plain": [
       "array(['Mohamed Cheïkh Mohamed Ahmed ElGHAZOUANI (Ghazouani)',\n",
       "       'Sidi Mohamed Boubacar BOUSSALEF (Boubacar)',\n",
       "       'Biram Dah Dah ABEID (Biram)', 'Mohamed Sidi MAOULOUD (Maouloud)',\n",
       "       'Mohamed Lemine El Mourteji El WAVI (Wavi)',\n",
       "       'KANE Hamidou Baba (Kane)'], dtype=object)"
      ]
     },
     "execution_count": 8,
     "metadata": {},
     "output_type": "execute_result"
    },
    {
     "data": {
      "text/plain": [
       "array(['Ghabou', 'Moudjeria', 'Boghé', 'Tintane', 'Chami', \"F'Deirick\",\n",
       "       'Rosso', 'Amourj', 'Ouad Naga', 'Bassiknou', 'Tamcheket', 'Kiffa',\n",
       "       'Aleg', \"M'Bout\", 'Timbedra', 'Koubenni', 'Mederdra', \"R'Kiz\",\n",
       "       'Ksar', 'Monguel', 'Riyad', 'Kaédi', 'Keur Macène', 'Guerou',\n",
       "       'Nouadhibou', \"N'beiket Lahwach\", 'Sebkha', 'Magtalahjar',\n",
       "       'El Mina', 'Barkéol', 'Bennechab', 'Boumdeid', 'Aïoun', 'Atar',\n",
       "       'Tidjikja', 'Dar Naïm', 'Néma', 'Arafat', 'Djiguenni', 'Zoueratt',\n",
       "       'Sélibaby', 'Ould Yengé', 'Ouadane', 'Oualata', 'Bir Moghrein',\n",
       "       'Maghama', 'Akjoujt', 'Tevragh Zeina', 'Bababé', 'Teyaret',\n",
       "       'Chinguitti', 'Asie', 'Afrique', 'Europe', 'Aoujeft', \"M'Bagne\",\n",
       "       'Tichit', 'Toujounine', 'Kankoussa', 'Boutilimit'], dtype=object)"
      ]
     },
     "execution_count": 8,
     "metadata": {},
     "output_type": "execute_result"
    }
   ],
   "source": [
    "# number of candidates \n",
    "number_candidates = 6\n",
    "\n",
    "# state names \n",
    "states_list = election_data.state.unique()\n",
    "states_list\n",
    "\n",
    "candidates_list = election_data.candidate.unique()\n",
    "candidates_list\n",
    "\n",
    "counties_list = election_data.county.unique()\n",
    "counties_list"
   ]
  },
  {
   "cell_type": "markdown",
   "metadata": {},
   "source": [
    "### Group by objects"
   ]
  },
  {
   "cell_type": "code",
   "execution_count": 15,
   "metadata": {},
   "outputs": [
    {
     "data": {
      "text/plain": [
       "candidate\n",
       "Biram Dah Dah ABEID (Biram)                             172656\n",
       "KANE Hamidou Baba (Kane)                                 80916\n",
       "Mohamed Cheïkh Mohamed Ahmed ElGHAZOUANI (Ghazouani)    483312\n",
       "Mohamed Lemine El Mourteji El WAVI (Wavi)                 3676\n",
       "Mohamed Sidi MAOULOUD (Maouloud)                         22695\n",
       "Sidi Mohamed Boubacar BOUSSALEF (Boubacar)              166058\n",
       "Name: candidate_votes, dtype: int64"
      ]
     },
     "execution_count": 15,
     "metadata": {},
     "output_type": "execute_result"
    }
   ],
   "source": [
    "# create a new column with candidate percts\n",
    "election_data[\"candidate_perct_office\"] = election_data.candidate_votes / election_data.suffrage\n",
    "\n",
    "groupby_candidate = election_data.groupby([\"candidate\"]).sum()[\"candidate_votes\"]\n",
    "groupby_candidate"
   ]
  },
  {
   "cell_type": "code",
   "execution_count": 16,
   "metadata": {},
   "outputs": [
    {
     "data": {
      "text/html": [
       "<div>\n",
       "<style scoped>\n",
       "    .dataframe tbody tr th:only-of-type {\n",
       "        vertical-align: middle;\n",
       "    }\n",
       "\n",
       "    .dataframe tbody tr th {\n",
       "        vertical-align: top;\n",
       "    }\n",
       "\n",
       "    .dataframe thead th {\n",
       "        text-align: right;\n",
       "    }\n",
       "</style>\n",
       "<table border=\"1\" class=\"dataframe\">\n",
       "  <thead>\n",
       "    <tr style=\"text-align: right;\">\n",
       "      <th></th>\n",
       "      <th>state_code</th>\n",
       "      <th>state</th>\n",
       "      <th>county</th>\n",
       "      <th>town</th>\n",
       "      <th>center</th>\n",
       "      <th>center_id</th>\n",
       "      <th>office_id</th>\n",
       "      <th>registered</th>\n",
       "      <th>voted</th>\n",
       "      <th>void</th>\n",
       "      <th>neutral</th>\n",
       "      <th>suffrage</th>\n",
       "      <th>candidate_votes</th>\n",
       "      <th>candidate</th>\n",
       "      <th>candidate_perct</th>\n",
       "      <th>candidate_perct_office</th>\n",
       "    </tr>\n",
       "  </thead>\n",
       "  <tbody>\n",
       "    <tr>\n",
       "      <th>0</th>\n",
       "      <td>10</td>\n",
       "      <td>Guidimagha</td>\n",
       "      <td>Ghabou</td>\n",
       "      <td>Baydjam</td>\n",
       "      <td>Ecole Keleyle</td>\n",
       "      <td>7</td>\n",
       "      <td>1</td>\n",
       "      <td>164</td>\n",
       "      <td>120</td>\n",
       "      <td>5</td>\n",
       "      <td>0</td>\n",
       "      <td>115</td>\n",
       "      <td>96</td>\n",
       "      <td>Mohamed Cheïkh Mohamed Ahmed ElGHAZOUANI (Ghaz...</td>\n",
       "      <td>0.834783</td>\n",
       "      <td>0.834783</td>\n",
       "    </tr>\n",
       "    <tr>\n",
       "      <th>1</th>\n",
       "      <td>10</td>\n",
       "      <td>Guidimagha</td>\n",
       "      <td>Ghabou</td>\n",
       "      <td>Baydjam</td>\n",
       "      <td>Ecole Keleyle</td>\n",
       "      <td>7</td>\n",
       "      <td>1</td>\n",
       "      <td>164</td>\n",
       "      <td>120</td>\n",
       "      <td>5</td>\n",
       "      <td>0</td>\n",
       "      <td>115</td>\n",
       "      <td>13</td>\n",
       "      <td>Sidi Mohamed Boubacar BOUSSALEF (Boubacar)</td>\n",
       "      <td>0.113043</td>\n",
       "      <td>0.113043</td>\n",
       "    </tr>\n",
       "    <tr>\n",
       "      <th>2</th>\n",
       "      <td>10</td>\n",
       "      <td>Guidimagha</td>\n",
       "      <td>Ghabou</td>\n",
       "      <td>Baydjam</td>\n",
       "      <td>Ecole Keleyle</td>\n",
       "      <td>7</td>\n",
       "      <td>1</td>\n",
       "      <td>164</td>\n",
       "      <td>120</td>\n",
       "      <td>5</td>\n",
       "      <td>0</td>\n",
       "      <td>115</td>\n",
       "      <td>6</td>\n",
       "      <td>Biram Dah Dah ABEID (Biram)</td>\n",
       "      <td>0.052174</td>\n",
       "      <td>0.052174</td>\n",
       "    </tr>\n",
       "  </tbody>\n",
       "</table>\n",
       "</div>"
      ],
      "text/plain": [
       "   state_code       state  county     town         center  center_id  \\\n",
       "0          10  Guidimagha  Ghabou  Baydjam  Ecole Keleyle          7   \n",
       "1          10  Guidimagha  Ghabou  Baydjam  Ecole Keleyle          7   \n",
       "2          10  Guidimagha  Ghabou  Baydjam  Ecole Keleyle          7   \n",
       "\n",
       "   office_id  registered  voted  void  neutral  suffrage  candidate_votes  \\\n",
       "0          1         164    120     5        0       115               96   \n",
       "1          1         164    120     5        0       115               13   \n",
       "2          1         164    120     5        0       115                6   \n",
       "\n",
       "                                           candidate  candidate_perct  \\\n",
       "0  Mohamed Cheïkh Mohamed Ahmed ElGHAZOUANI (Ghaz...         0.834783   \n",
       "1         Sidi Mohamed Boubacar BOUSSALEF (Boubacar)         0.113043   \n",
       "2                        Biram Dah Dah ABEID (Biram)         0.052174   \n",
       "\n",
       "   candidate_perct_office  \n",
       "0                0.834783  \n",
       "1                0.113043  \n",
       "2                0.052174  "
      ]
     },
     "execution_count": 16,
     "metadata": {},
     "output_type": "execute_result"
    }
   ],
   "source": [
    "election_data.head(3)"
   ]
  },
  {
   "cell_type": "code",
   "execution_count": 12,
   "metadata": {},
   "outputs": [],
   "source": [
    "candidate_county_groupby = election_data.groupby(['candidate', 'county'])"
   ]
  },
  {
   "cell_type": "code",
   "execution_count": null,
   "metadata": {},
   "outputs": [],
   "source": []
  }
 ],
 "metadata": {
  "kernelspec": {
   "display_name": "Python 3",
   "language": "python",
   "name": "python3"
  },
  "language_info": {
   "codemirror_mode": {
    "name": "ipython",
    "version": 3
   },
   "file_extension": ".py",
   "mimetype": "text/x-python",
   "name": "python",
   "nbconvert_exporter": "python",
   "pygments_lexer": "ipython3",
   "version": "3.6.8"
  }
 },
 "nbformat": 4,
 "nbformat_minor": 2
}
