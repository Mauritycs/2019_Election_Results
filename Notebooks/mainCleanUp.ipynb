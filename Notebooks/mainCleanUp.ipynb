{
 "cells": [
  {
   "cell_type": "code",
   "execution_count": 3,
   "metadata": {},
   "outputs": [],
   "source": [
    "# Importing Dependencies \n",
    "import pandas as pd"
   ]
  },
  {
   "cell_type": "code",
   "execution_count": 4,
   "metadata": {},
   "outputs": [],
   "source": [
    "from IPython.core.interactiveshell import InteractiveShell\n",
    "InteractiveShell.ast_node_interactivity = \"all\"\n",
    "# InteractiveShell.ast_node_interactivity = \"last_expr\""
   ]
  },
  {
   "cell_type": "code",
   "execution_count": 5,
   "metadata": {},
   "outputs": [],
   "source": [
    "# Read data from an excel file to a pandas dataframe \n",
    "election_data_unclean = pd.read_excel('../Data/ResultatElection2019.xlsx')"
   ]
  },
  {
   "cell_type": "markdown",
   "metadata": {},
   "source": [
    "#### Let's familiarize ourselves with the data <br> [source: CENI](http://www.ceni.mr/node/91)"
   ]
  },
  {
   "cell_type": "code",
   "execution_count": 6,
   "metadata": {},
   "outputs": [
    {
     "data": {
      "text/html": [
       "<div>\n",
       "<style scoped>\n",
       "    .dataframe tbody tr th:only-of-type {\n",
       "        vertical-align: middle;\n",
       "    }\n",
       "\n",
       "    .dataframe tbody tr th {\n",
       "        vertical-align: top;\n",
       "    }\n",
       "\n",
       "    .dataframe thead th {\n",
       "        text-align: right;\n",
       "    }\n",
       "</style>\n",
       "<table border=\"1\" class=\"dataframe\">\n",
       "  <thead>\n",
       "    <tr style=\"text-align: right;\">\n",
       "      <th></th>\n",
       "      <th>codeWilaya</th>\n",
       "      <th>libWilaya_ar</th>\n",
       "      <th>libMoughataaAr</th>\n",
       "      <th>libCommune_ar</th>\n",
       "      <th>libelleCenter_ar</th>\n",
       "      <th>libWilaya</th>\n",
       "      <th>libMoughataaFr</th>\n",
       "      <th>libCommune</th>\n",
       "      <th>libelleCenter</th>\n",
       "      <th>N Centre</th>\n",
       "      <th>N Bureau</th>\n",
       "      <th>nbInscrits</th>\n",
       "      <th>nbVotant</th>\n",
       "      <th>nbVoteNull</th>\n",
       "      <th>nbVoteNeutre</th>\n",
       "      <th>nbSuffrage</th>\n",
       "      <th>nbVoix</th>\n",
       "      <th>Candidat</th>\n",
       "      <th>CandidatAr</th>\n",
       "    </tr>\n",
       "  </thead>\n",
       "  <tbody>\n",
       "    <tr>\n",
       "      <th>0</th>\n",
       "      <td>10</td>\n",
       "      <td>كيدي ماغا</td>\n",
       "      <td>غابو</td>\n",
       "      <td>بادجيم</td>\n",
       "      <td>مدرسة كليل</td>\n",
       "      <td>Guidimagha</td>\n",
       "      <td>Ghabou</td>\n",
       "      <td>Baydjam</td>\n",
       "      <td>Ecole Keleyle</td>\n",
       "      <td>7</td>\n",
       "      <td>1</td>\n",
       "      <td>164</td>\n",
       "      <td>120</td>\n",
       "      <td>5</td>\n",
       "      <td>0</td>\n",
       "      <td>115</td>\n",
       "      <td>96</td>\n",
       "      <td>Mohamed Cheïkh Mohamed Ahmed ElGHAZOUANI (Ghaz...</td>\n",
       "      <td>محمد الشيخ محمد أحمد الشيخ الغزواني</td>\n",
       "    </tr>\n",
       "    <tr>\n",
       "      <th>1</th>\n",
       "      <td>10</td>\n",
       "      <td>كيدي ماغا</td>\n",
       "      <td>غابو</td>\n",
       "      <td>بادجيم</td>\n",
       "      <td>مدرسة كليل</td>\n",
       "      <td>Guidimagha</td>\n",
       "      <td>Ghabou</td>\n",
       "      <td>Baydjam</td>\n",
       "      <td>Ecole Keleyle</td>\n",
       "      <td>7</td>\n",
       "      <td>1</td>\n",
       "      <td>164</td>\n",
       "      <td>120</td>\n",
       "      <td>5</td>\n",
       "      <td>0</td>\n",
       "      <td>115</td>\n",
       "      <td>13</td>\n",
       "      <td>Sidi Mohamed Boubacar BOUSSALEF (Boubacar)</td>\n",
       "      <td>سيدي محمد بوبكر بوسالف</td>\n",
       "    </tr>\n",
       "    <tr>\n",
       "      <th>2</th>\n",
       "      <td>10</td>\n",
       "      <td>كيدي ماغا</td>\n",
       "      <td>غابو</td>\n",
       "      <td>بادجيم</td>\n",
       "      <td>مدرسة كليل</td>\n",
       "      <td>Guidimagha</td>\n",
       "      <td>Ghabou</td>\n",
       "      <td>Baydjam</td>\n",
       "      <td>Ecole Keleyle</td>\n",
       "      <td>7</td>\n",
       "      <td>1</td>\n",
       "      <td>164</td>\n",
       "      <td>120</td>\n",
       "      <td>5</td>\n",
       "      <td>0</td>\n",
       "      <td>115</td>\n",
       "      <td>6</td>\n",
       "      <td>Biram Dah Dah ABEID (Biram)</td>\n",
       "      <td>برام الداه الداه اعبيد</td>\n",
       "    </tr>\n",
       "    <tr>\n",
       "      <th>3</th>\n",
       "      <td>10</td>\n",
       "      <td>كيدي ماغا</td>\n",
       "      <td>غابو</td>\n",
       "      <td>بادجيم</td>\n",
       "      <td>مدرسة كليل</td>\n",
       "      <td>Guidimagha</td>\n",
       "      <td>Ghabou</td>\n",
       "      <td>Baydjam</td>\n",
       "      <td>Ecole Keleyle</td>\n",
       "      <td>7</td>\n",
       "      <td>1</td>\n",
       "      <td>164</td>\n",
       "      <td>120</td>\n",
       "      <td>5</td>\n",
       "      <td>0</td>\n",
       "      <td>115</td>\n",
       "      <td>0</td>\n",
       "      <td>Mohamed Sidi MAOULOUD (Maouloud)</td>\n",
       "      <td>محمد سيدي مولود</td>\n",
       "    </tr>\n",
       "    <tr>\n",
       "      <th>4</th>\n",
       "      <td>10</td>\n",
       "      <td>كيدي ماغا</td>\n",
       "      <td>غابو</td>\n",
       "      <td>بادجيم</td>\n",
       "      <td>مدرسة كليل</td>\n",
       "      <td>Guidimagha</td>\n",
       "      <td>Ghabou</td>\n",
       "      <td>Baydjam</td>\n",
       "      <td>Ecole Keleyle</td>\n",
       "      <td>7</td>\n",
       "      <td>1</td>\n",
       "      <td>164</td>\n",
       "      <td>120</td>\n",
       "      <td>5</td>\n",
       "      <td>0</td>\n",
       "      <td>115</td>\n",
       "      <td>0</td>\n",
       "      <td>Mohamed Lemine El Mourteji El WAVI (Wavi)</td>\n",
       "      <td>محمد الامين المرتجي الوافي</td>\n",
       "    </tr>\n",
       "  </tbody>\n",
       "</table>\n",
       "</div>"
      ],
      "text/plain": [
       "   codeWilaya libWilaya_ar libMoughataaAr libCommune_ar libelleCenter_ar  \\\n",
       "0          10   كيدي ماغا            غابو        بادجيم       مدرسة كليل   \n",
       "1          10   كيدي ماغا            غابو        بادجيم       مدرسة كليل   \n",
       "2          10   كيدي ماغا            غابو        بادجيم       مدرسة كليل   \n",
       "3          10   كيدي ماغا            غابو        بادجيم       مدرسة كليل   \n",
       "4          10   كيدي ماغا            غابو        بادجيم       مدرسة كليل   \n",
       "\n",
       "    libWilaya libMoughataaFr libCommune  libelleCenter  N Centre  N Bureau  \\\n",
       "0  Guidimagha         Ghabou    Baydjam  Ecole Keleyle         7         1   \n",
       "1  Guidimagha         Ghabou    Baydjam  Ecole Keleyle         7         1   \n",
       "2  Guidimagha         Ghabou    Baydjam  Ecole Keleyle         7         1   \n",
       "3  Guidimagha         Ghabou    Baydjam  Ecole Keleyle         7         1   \n",
       "4  Guidimagha         Ghabou    Baydjam  Ecole Keleyle         7         1   \n",
       "\n",
       "   nbInscrits  nbVotant  nbVoteNull  nbVoteNeutre  nbSuffrage  nbVoix  \\\n",
       "0         164       120           5             0         115      96   \n",
       "1         164       120           5             0         115      13   \n",
       "2         164       120           5             0         115       6   \n",
       "3         164       120           5             0         115       0   \n",
       "4         164       120           5             0         115       0   \n",
       "\n",
       "                                            Candidat  \\\n",
       "0  Mohamed Cheïkh Mohamed Ahmed ElGHAZOUANI (Ghaz...   \n",
       "1         Sidi Mohamed Boubacar BOUSSALEF (Boubacar)   \n",
       "2                        Biram Dah Dah ABEID (Biram)   \n",
       "3                   Mohamed Sidi MAOULOUD (Maouloud)   \n",
       "4          Mohamed Lemine El Mourteji El WAVI (Wavi)   \n",
       "\n",
       "                            CandidatAr  \n",
       "0  محمد الشيخ محمد أحمد الشيخ الغزواني  \n",
       "1               سيدي محمد بوبكر بوسالف  \n",
       "2               برام الداه الداه اعبيد  \n",
       "3                      محمد سيدي مولود  \n",
       "4           محمد الامين المرتجي الوافي  "
      ]
     },
     "execution_count": 6,
     "metadata": {},
     "output_type": "execute_result"
    }
   ],
   "source": [
    "# Print first five rows\n",
    "election_data_unclean.head()"
   ]
  },
  {
   "cell_type": "code",
   "execution_count": 7,
   "metadata": {},
   "outputs": [
    {
     "name": "stdout",
     "output_type": "stream",
     "text": [
      "the number of unique voting offices: 3861\n"
     ]
    }
   ],
   "source": [
    "print(f'the number of unique voting offices: {int(23166/6)}')"
   ]
  },
  {
   "cell_type": "code",
   "execution_count": 8,
   "metadata": {},
   "outputs": [
    {
     "name": "stdout",
     "output_type": "stream",
     "text": [
      "<class 'pandas.core.frame.DataFrame'>\n",
      "RangeIndex: 23166 entries, 0 to 23165\n",
      "Data columns (total 19 columns):\n",
      "codeWilaya          23166 non-null int64\n",
      "libWilaya_ar        23166 non-null object\n",
      "libMoughataaAr      23166 non-null object\n",
      "libCommune_ar       23166 non-null object\n",
      "libelleCenter_ar    23166 non-null object\n",
      "libWilaya           23166 non-null object\n",
      "libMoughataaFr      23166 non-null object\n",
      "libCommune          23166 non-null object\n",
      "libelleCenter       23166 non-null object\n",
      "N Centre            23166 non-null int64\n",
      "N Bureau            23166 non-null int64\n",
      "nbInscrits          23166 non-null int64\n",
      "nbVotant            23166 non-null int64\n",
      "nbVoteNull          23166 non-null int64\n",
      "nbVoteNeutre        23166 non-null int64\n",
      "nbSuffrage          23166 non-null int64\n",
      "nbVoix              23166 non-null int64\n",
      "Candidat            23166 non-null object\n",
      "CandidatAr          23166 non-null object\n",
      "dtypes: int64(9), object(10)\n",
      "memory usage: 3.4+ MB\n"
     ]
    }
   ],
   "source": [
    "# print information about the dataframe, number of columns, their names, number of entries, dtypes and memory usage\n",
    "election_data_unclean.info()"
   ]
  },
  {
   "cell_type": "code",
   "execution_count": 9,
   "metadata": {},
   "outputs": [
    {
     "data": {
      "text/plain": [
       "codeWilaya          False\n",
       "libWilaya_ar        False\n",
       "libMoughataaAr      False\n",
       "libCommune_ar       False\n",
       "libelleCenter_ar    False\n",
       "libWilaya           False\n",
       "libMoughataaFr      False\n",
       "libCommune          False\n",
       "libelleCenter       False\n",
       "N Centre            False\n",
       "N Bureau            False\n",
       "nbInscrits          False\n",
       "nbVotant            False\n",
       "nbVoteNull          False\n",
       "nbVoteNeutre        False\n",
       "nbSuffrage          False\n",
       "nbVoix              False\n",
       "Candidat            False\n",
       "CandidatAr          False\n",
       "dtype: bool"
      ]
     },
     "execution_count": 9,
     "metadata": {},
     "output_type": "execute_result"
    }
   ],
   "source": [
    "# Check for null values in any of the columns \n",
    "election_data_unclean.isnull().any()"
   ]
  },
  {
   "cell_type": "code",
   "execution_count": 10,
   "metadata": {},
   "outputs": [
    {
     "data": {
      "text/plain": [
       "array(['Mohamed Cheïkh Mohamed Ahmed ElGHAZOUANI (Ghazouani)',\n",
       "       'Sidi Mohamed Boubacar BOUSSALEF (Boubacar)',\n",
       "       'Biram Dah Dah ABEID (Biram)', 'Mohamed Sidi MAOULOUD (Maouloud)',\n",
       "       'Mohamed Lemine El Mourteji El WAVI (Wavi)',\n",
       "       'KANE Hamidou Baba (Kane)'], dtype=object)"
      ]
     },
     "execution_count": 10,
     "metadata": {},
     "output_type": "execute_result"
    }
   ],
   "source": [
    "# print candidate names\n",
    "candidates_list = election_data_unclean[\"Candidat\"].unique()\n",
    "candidates_list"
   ]
  },
  {
   "cell_type": "code",
   "execution_count": 11,
   "metadata": {},
   "outputs": [
    {
     "data": {
      "text/plain": [
       "array(['Guidimagha', 'Tagant', 'Brakna', 'Hodh El Gharbi',\n",
       "       'Dakhlet Nouadhibou', 'Tiris Zemmour', 'Trarza', 'Hodh Chargui',\n",
       "       'Assaba', 'Gorgol', 'Nouakchott Ouest', 'Nouakchott Sud',\n",
       "       'Inchiri', 'Adrar', 'Nouakchott Nord', 'Etranger'], dtype=object)"
      ]
     },
     "execution_count": 11,
     "metadata": {},
     "output_type": "execute_result"
    }
   ],
   "source": [
    "# get unique states + overseas\n",
    "states_list = election_data_unclean['libWilaya'].unique()\n",
    "states_list"
   ]
  },
  {
   "cell_type": "code",
   "execution_count": 12,
   "metadata": {},
   "outputs": [
    {
     "data": {
      "text/plain": [
       "array(['codeWilaya', 'libWilaya_ar', 'libMoughataaAr', 'libCommune_ar',\n",
       "       'libelleCenter_ar', 'libWilaya', 'libMoughataaFr', 'libCommune',\n",
       "       'libelleCenter', 'N Centre', 'N Bureau', 'nbInscrits', 'nbVotant',\n",
       "       'nbVoteNull', 'nbVoteNeutre', 'nbSuffrage', 'nbVoix', 'Candidat',\n",
       "       'CandidatAr'], dtype=object)"
      ]
     },
     "execution_count": 12,
     "metadata": {},
     "output_type": "execute_result"
    }
   ],
   "source": [
    "# print column names\n",
    "election_data_unclean.columns.values"
   ]
  },
  {
   "cell_type": "markdown",
   "metadata": {},
   "source": [
    "#### Data manipulation"
   ]
  },
  {
   "cell_type": "code",
   "execution_count": 13,
   "metadata": {},
   "outputs": [],
   "source": [
    "# drop unwanted columns\n",
    "election_data_unclean = election_data_unclean.drop(['libWilaya_ar',\n",
    "                                                    'libMoughataaAr',\n",
    "                                                    'libCommune_ar',\n",
    "                                                    'libelleCenter_ar',\n",
    "                                                    'CandidatAr'], axis = 1)"
   ]
  },
  {
   "cell_type": "code",
   "execution_count": 14,
   "metadata": {},
   "outputs": [],
   "source": [
    "# list with english column names\n",
    "english_headers_list = [\n",
    "                        'state_code',\n",
    "                        'state',\n",
    "                        'county',\n",
    "                        'town',\n",
    "                        'center',\n",
    "                        'center_id',\n",
    "                        'office_id',\n",
    "                        'registered',\n",
    "                        'voted',\n",
    "                        'void',\n",
    "                        'neutral',\n",
    "                        'suffrage',\n",
    "                        'candidate_votes',\n",
    "                        'candidate'\n",
    "                                        ]"
   ]
  },
  {
   "cell_type": "code",
   "execution_count": 15,
   "metadata": {},
   "outputs": [],
   "source": [
    "# rename dataframe's headers\n",
    "election_data_unclean.columns = english_headers_list"
   ]
  },
  {
   "cell_type": "code",
   "execution_count": 16,
   "metadata": {},
   "outputs": [
    {
     "data": {
      "text/html": [
       "<div>\n",
       "<style scoped>\n",
       "    .dataframe tbody tr th:only-of-type {\n",
       "        vertical-align: middle;\n",
       "    }\n",
       "\n",
       "    .dataframe tbody tr th {\n",
       "        vertical-align: top;\n",
       "    }\n",
       "\n",
       "    .dataframe thead th {\n",
       "        text-align: right;\n",
       "    }\n",
       "</style>\n",
       "<table border=\"1\" class=\"dataframe\">\n",
       "  <thead>\n",
       "    <tr style=\"text-align: right;\">\n",
       "      <th></th>\n",
       "      <th>state_code</th>\n",
       "      <th>state</th>\n",
       "      <th>county</th>\n",
       "      <th>town</th>\n",
       "      <th>center</th>\n",
       "      <th>center_id</th>\n",
       "      <th>office_id</th>\n",
       "      <th>registered</th>\n",
       "      <th>voted</th>\n",
       "      <th>void</th>\n",
       "      <th>neutral</th>\n",
       "      <th>suffrage</th>\n",
       "      <th>candidate_votes</th>\n",
       "      <th>candidate</th>\n",
       "    </tr>\n",
       "  </thead>\n",
       "  <tbody>\n",
       "    <tr>\n",
       "      <th>23161</th>\n",
       "      <td>4</td>\n",
       "      <td>Gorgol</td>\n",
       "      <td>Kaédi</td>\n",
       "      <td>Tokomadji</td>\n",
       "      <td>Tokomadji</td>\n",
       "      <td>7</td>\n",
       "      <td>1</td>\n",
       "      <td>321</td>\n",
       "      <td>231</td>\n",
       "      <td>2</td>\n",
       "      <td>4</td>\n",
       "      <td>225</td>\n",
       "      <td>17</td>\n",
       "      <td>Sidi Mohamed Boubacar BOUSSALEF (Boubacar)</td>\n",
       "    </tr>\n",
       "    <tr>\n",
       "      <th>23162</th>\n",
       "      <td>4</td>\n",
       "      <td>Gorgol</td>\n",
       "      <td>Kaédi</td>\n",
       "      <td>Tokomadji</td>\n",
       "      <td>Tokomadji</td>\n",
       "      <td>7</td>\n",
       "      <td>1</td>\n",
       "      <td>321</td>\n",
       "      <td>231</td>\n",
       "      <td>2</td>\n",
       "      <td>4</td>\n",
       "      <td>225</td>\n",
       "      <td>69</td>\n",
       "      <td>Biram Dah Dah ABEID (Biram)</td>\n",
       "    </tr>\n",
       "    <tr>\n",
       "      <th>23163</th>\n",
       "      <td>4</td>\n",
       "      <td>Gorgol</td>\n",
       "      <td>Kaédi</td>\n",
       "      <td>Tokomadji</td>\n",
       "      <td>Tokomadji</td>\n",
       "      <td>7</td>\n",
       "      <td>1</td>\n",
       "      <td>321</td>\n",
       "      <td>231</td>\n",
       "      <td>2</td>\n",
       "      <td>4</td>\n",
       "      <td>225</td>\n",
       "      <td>3</td>\n",
       "      <td>Mohamed Sidi MAOULOUD (Maouloud)</td>\n",
       "    </tr>\n",
       "    <tr>\n",
       "      <th>23164</th>\n",
       "      <td>4</td>\n",
       "      <td>Gorgol</td>\n",
       "      <td>Kaédi</td>\n",
       "      <td>Tokomadji</td>\n",
       "      <td>Tokomadji</td>\n",
       "      <td>7</td>\n",
       "      <td>1</td>\n",
       "      <td>321</td>\n",
       "      <td>231</td>\n",
       "      <td>2</td>\n",
       "      <td>4</td>\n",
       "      <td>225</td>\n",
       "      <td>0</td>\n",
       "      <td>Mohamed Lemine El Mourteji El WAVI (Wavi)</td>\n",
       "    </tr>\n",
       "    <tr>\n",
       "      <th>23165</th>\n",
       "      <td>4</td>\n",
       "      <td>Gorgol</td>\n",
       "      <td>Kaédi</td>\n",
       "      <td>Tokomadji</td>\n",
       "      <td>Tokomadji</td>\n",
       "      <td>7</td>\n",
       "      <td>1</td>\n",
       "      <td>321</td>\n",
       "      <td>231</td>\n",
       "      <td>2</td>\n",
       "      <td>4</td>\n",
       "      <td>225</td>\n",
       "      <td>77</td>\n",
       "      <td>KANE Hamidou Baba (Kane)</td>\n",
       "    </tr>\n",
       "  </tbody>\n",
       "</table>\n",
       "</div>"
      ],
      "text/plain": [
       "       state_code   state county       town     center  center_id  office_id  \\\n",
       "23161           4  Gorgol  Kaédi  Tokomadji  Tokomadji          7          1   \n",
       "23162           4  Gorgol  Kaédi  Tokomadji  Tokomadji          7          1   \n",
       "23163           4  Gorgol  Kaédi  Tokomadji  Tokomadji          7          1   \n",
       "23164           4  Gorgol  Kaédi  Tokomadji  Tokomadji          7          1   \n",
       "23165           4  Gorgol  Kaédi  Tokomadji  Tokomadji          7          1   \n",
       "\n",
       "       registered  voted  void  neutral  suffrage  candidate_votes  \\\n",
       "23161         321    231     2        4       225               17   \n",
       "23162         321    231     2        4       225               69   \n",
       "23163         321    231     2        4       225                3   \n",
       "23164         321    231     2        4       225                0   \n",
       "23165         321    231     2        4       225               77   \n",
       "\n",
       "                                        candidate  \n",
       "23161  Sidi Mohamed Boubacar BOUSSALEF (Boubacar)  \n",
       "23162                 Biram Dah Dah ABEID (Biram)  \n",
       "23163            Mohamed Sidi MAOULOUD (Maouloud)  \n",
       "23164   Mohamed Lemine El Mourteji El WAVI (Wavi)  \n",
       "23165                    KANE Hamidou Baba (Kane)  "
      ]
     },
     "execution_count": 16,
     "metadata": {},
     "output_type": "execute_result"
    }
   ],
   "source": [
    "election_data_unclean.tail()"
   ]
  },
  {
   "cell_type": "code",
   "execution_count": 17,
   "metadata": {},
   "outputs": [
    {
     "data": {
      "text/plain": [
       "state_code          int64\n",
       "state              object\n",
       "county             object\n",
       "town               object\n",
       "center             object\n",
       "center_id           int64\n",
       "office_id           int64\n",
       "registered          int64\n",
       "voted               int64\n",
       "void                int64\n",
       "neutral             int64\n",
       "suffrage            int64\n",
       "candidate_votes     int64\n",
       "candidate          object\n",
       "dtype: object"
      ]
     },
     "execution_count": 17,
     "metadata": {},
     "output_type": "execute_result"
    }
   ],
   "source": [
    "# dtypes dict \n",
    "convert_dtypes = {'registered':int,\n",
    "                  'voted': int,\n",
    "                  'void': int,\n",
    "                  'neutral': int,\n",
    "                  'suffrage': int,\n",
    "                  'candidate_votes': int}\n",
    "\n",
    "# change dtypes \n",
    "election_data_unclean = election_data_unclean.astype(convert_dtypes)\n",
    "election_data_unclean.dtypes\n",
    "\n",
    "# \n",
    "election_data = election_data_unclean"
   ]
  },
  {
   "cell_type": "code",
   "execution_count": 18,
   "metadata": {},
   "outputs": [
    {
     "data": {
      "text/html": [
       "<div>\n",
       "<style scoped>\n",
       "    .dataframe tbody tr th:only-of-type {\n",
       "        vertical-align: middle;\n",
       "    }\n",
       "\n",
       "    .dataframe tbody tr th {\n",
       "        vertical-align: top;\n",
       "    }\n",
       "\n",
       "    .dataframe thead th {\n",
       "        text-align: right;\n",
       "    }\n",
       "</style>\n",
       "<table border=\"1\" class=\"dataframe\">\n",
       "  <thead>\n",
       "    <tr style=\"text-align: right;\">\n",
       "      <th></th>\n",
       "      <th>state_code</th>\n",
       "      <th>state</th>\n",
       "      <th>county</th>\n",
       "      <th>town</th>\n",
       "      <th>center</th>\n",
       "      <th>center_id</th>\n",
       "      <th>office_id</th>\n",
       "      <th>registered</th>\n",
       "      <th>voted</th>\n",
       "      <th>void</th>\n",
       "      <th>neutral</th>\n",
       "      <th>suffrage</th>\n",
       "      <th>candidate_votes</th>\n",
       "      <th>candidate</th>\n",
       "    </tr>\n",
       "  </thead>\n",
       "  <tbody>\n",
       "    <tr>\n",
       "      <th>7542</th>\n",
       "      <td>0</td>\n",
       "      <td>Etranger</td>\n",
       "      <td>Asie</td>\n",
       "      <td>Emirats Arabes Unis</td>\n",
       "      <td>Interieur 1</td>\n",
       "      <td>2</td>\n",
       "      <td>1</td>\n",
       "      <td>465</td>\n",
       "      <td>255</td>\n",
       "      <td>3</td>\n",
       "      <td>10</td>\n",
       "      <td>242</td>\n",
       "      <td>165</td>\n",
       "      <td>Mohamed Cheïkh Mohamed Ahmed ElGHAZOUANI (Ghaz...</td>\n",
       "    </tr>\n",
       "    <tr>\n",
       "      <th>7543</th>\n",
       "      <td>0</td>\n",
       "      <td>Etranger</td>\n",
       "      <td>Asie</td>\n",
       "      <td>Emirats Arabes Unis</td>\n",
       "      <td>Interieur 1</td>\n",
       "      <td>2</td>\n",
       "      <td>1</td>\n",
       "      <td>465</td>\n",
       "      <td>255</td>\n",
       "      <td>3</td>\n",
       "      <td>10</td>\n",
       "      <td>242</td>\n",
       "      <td>47</td>\n",
       "      <td>Sidi Mohamed Boubacar BOUSSALEF (Boubacar)</td>\n",
       "    </tr>\n",
       "    <tr>\n",
       "      <th>7544</th>\n",
       "      <td>0</td>\n",
       "      <td>Etranger</td>\n",
       "      <td>Asie</td>\n",
       "      <td>Emirats Arabes Unis</td>\n",
       "      <td>Interieur 1</td>\n",
       "      <td>2</td>\n",
       "      <td>1</td>\n",
       "      <td>465</td>\n",
       "      <td>255</td>\n",
       "      <td>3</td>\n",
       "      <td>10</td>\n",
       "      <td>242</td>\n",
       "      <td>7</td>\n",
       "      <td>Biram Dah Dah ABEID (Biram)</td>\n",
       "    </tr>\n",
       "    <tr>\n",
       "      <th>7545</th>\n",
       "      <td>0</td>\n",
       "      <td>Etranger</td>\n",
       "      <td>Asie</td>\n",
       "      <td>Emirats Arabes Unis</td>\n",
       "      <td>Interieur 1</td>\n",
       "      <td>2</td>\n",
       "      <td>1</td>\n",
       "      <td>465</td>\n",
       "      <td>255</td>\n",
       "      <td>3</td>\n",
       "      <td>10</td>\n",
       "      <td>242</td>\n",
       "      <td>22</td>\n",
       "      <td>Mohamed Sidi MAOULOUD (Maouloud)</td>\n",
       "    </tr>\n",
       "    <tr>\n",
       "      <th>7546</th>\n",
       "      <td>0</td>\n",
       "      <td>Etranger</td>\n",
       "      <td>Asie</td>\n",
       "      <td>Emirats Arabes Unis</td>\n",
       "      <td>Interieur 1</td>\n",
       "      <td>2</td>\n",
       "      <td>1</td>\n",
       "      <td>465</td>\n",
       "      <td>255</td>\n",
       "      <td>3</td>\n",
       "      <td>10</td>\n",
       "      <td>242</td>\n",
       "      <td>0</td>\n",
       "      <td>Mohamed Lemine El Mourteji El WAVI (Wavi)</td>\n",
       "    </tr>\n",
       "  </tbody>\n",
       "</table>\n",
       "</div>"
      ],
      "text/plain": [
       "      state_code     state county                 town       center  \\\n",
       "7542           0  Etranger   Asie  Emirats Arabes Unis  Interieur 1   \n",
       "7543           0  Etranger   Asie  Emirats Arabes Unis  Interieur 1   \n",
       "7544           0  Etranger   Asie  Emirats Arabes Unis  Interieur 1   \n",
       "7545           0  Etranger   Asie  Emirats Arabes Unis  Interieur 1   \n",
       "7546           0  Etranger   Asie  Emirats Arabes Unis  Interieur 1   \n",
       "\n",
       "      center_id  office_id  registered  voted  void  neutral  suffrage  \\\n",
       "7542          2          1         465    255     3       10       242   \n",
       "7543          2          1         465    255     3       10       242   \n",
       "7544          2          1         465    255     3       10       242   \n",
       "7545          2          1         465    255     3       10       242   \n",
       "7546          2          1         465    255     3       10       242   \n",
       "\n",
       "      candidate_votes                                          candidate  \n",
       "7542              165  Mohamed Cheïkh Mohamed Ahmed ElGHAZOUANI (Ghaz...  \n",
       "7543               47         Sidi Mohamed Boubacar BOUSSALEF (Boubacar)  \n",
       "7544                7                        Biram Dah Dah ABEID (Biram)  \n",
       "7545               22                   Mohamed Sidi MAOULOUD (Maouloud)  \n",
       "7546                0          Mohamed Lemine El Mourteji El WAVI (Wavi)  "
      ]
     },
     "execution_count": 18,
     "metadata": {},
     "output_type": "execute_result"
    }
   ],
   "source": [
    "election_data_unclean[election_data_unclean['state']=='Etranger'].head()"
   ]
  },
  {
   "cell_type": "code",
   "execution_count": 19,
   "metadata": {},
   "outputs": [],
   "source": [
    "# # save as csv\n",
    "# election_data.to_csv(path_or_buf='../Data/election_data.csv')"
   ]
  },
  {
   "cell_type": "code",
   "execution_count": 20,
   "metadata": {},
   "outputs": [],
   "source": [
    "mauri_states = ['Guidimagha', 'Tagant', 'Brakna', 'Hodh El Gharbi',\n",
    "       'Dakhlet Nouadhibou', 'Tiris Zemmour', 'Trarza', 'Hodh Chargui',\n",
    "       'Assaba', 'Gorgol', 'Nouakchott Ouest', 'Nouakchott Sud',\n",
    "       'Inchiri', 'Adrar', 'Nouakchott Nord',]"
   ]
  },
  {
   "cell_type": "code",
   "execution_count": 21,
   "metadata": {},
   "outputs": [
    {
     "data": {
      "text/plain": [
       "(22896, 14)"
      ]
     },
     "execution_count": 21,
     "metadata": {},
     "output_type": "execute_result"
    }
   ],
   "source": [
    "# df with on mauritanian states, not including etranger \n",
    "mauri_states_df = election_data[election_data.state.isin(mauri_states)]\n",
    "mauri_states_df.shape"
   ]
  },
  {
   "cell_type": "code",
   "execution_count": 22,
   "metadata": {},
   "outputs": [],
   "source": [
    "# gaz = election_data[(election_data.candidate == candidates_list[0]) & (election_data.voted > 200)]\n",
    "gaz = election_data[(election_data.candidate == candidates_list[0])]"
   ]
  },
  {
   "cell_type": "code",
   "execution_count": 23,
   "metadata": {},
   "outputs": [
    {
     "data": {
      "text/plain": [
       "0.5200761855570262"
      ]
     },
     "execution_count": 23,
     "metadata": {},
     "output_type": "execute_result"
    }
   ],
   "source": [
    "gaz.candidate_votes.sum() / gaz.suffrage.sum() "
   ]
  },
  {
   "cell_type": "code",
   "execution_count": 26,
   "metadata": {},
   "outputs": [],
   "source": [
    "guid_gaz_df = election_data[(election_data.state == mauri_states[0]) & (election_data.candidate == candidates_list[0])]"
   ]
  },
  {
   "cell_type": "code",
   "execution_count": null,
   "metadata": {},
   "outputs": [],
   "source": []
  }
 ],
 "metadata": {
  "kernelspec": {
   "display_name": "Python 3",
   "language": "python",
   "name": "python3"
  },
  "language_info": {
   "codemirror_mode": {
    "name": "ipython",
    "version": 3
   },
   "file_extension": ".py",
   "mimetype": "text/x-python",
   "name": "python",
   "nbconvert_exporter": "python",
   "pygments_lexer": "ipython3",
   "version": "3.6.8"
  }
 },
 "nbformat": 4,
 "nbformat_minor": 2
}
