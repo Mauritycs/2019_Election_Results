{
 "cells": [
  {
   "cell_type": "code",
   "execution_count": 15,
   "metadata": {},
   "outputs": [],
   "source": [
    "from IPython.core.interactiveshell import InteractiveShell\n",
    "InteractiveShell.ast_node_interactivity = \"all\"\n",
    "# InteractiveShell.ast_node_interactivity = \"last_expr\""
   ]
  },
  {
   "cell_type": "code",
   "execution_count": 16,
   "metadata": {},
   "outputs": [],
   "source": [
    "import plotly.plotly as py\n",
    "import plotly.graph_objs as go\n",
    "import pandas as pd\n",
    "import plotly"
   ]
  },
  {
   "cell_type": "code",
   "execution_count": 17,
   "metadata": {},
   "outputs": [],
   "source": [
    "plotly.tools.set_credentials_file(username='ahmedamdg', api_key='ogfSzyLWtDPni5gfWAPn')"
   ]
  },
  {
   "cell_type": "code",
   "execution_count": 18,
   "metadata": {},
   "outputs": [],
   "source": [
    "offices_summary = pd.read_csv('../Data/offices_summary.csv')"
   ]
  },
  {
   "cell_type": "code",
   "execution_count": 19,
   "metadata": {},
   "outputs": [
    {
     "data": {
      "text/html": [
       "<div>\n",
       "<style scoped>\n",
       "    .dataframe tbody tr th:only-of-type {\n",
       "        vertical-align: middle;\n",
       "    }\n",
       "\n",
       "    .dataframe tbody tr th {\n",
       "        vertical-align: top;\n",
       "    }\n",
       "\n",
       "    .dataframe thead th {\n",
       "        text-align: right;\n",
       "    }\n",
       "</style>\n",
       "<table border=\"1\" class=\"dataframe\">\n",
       "  <thead>\n",
       "    <tr style=\"text-align: right;\">\n",
       "      <th></th>\n",
       "      <th>office_name</th>\n",
       "      <th>county_name</th>\n",
       "      <th>state_name</th>\n",
       "      <th>registered</th>\n",
       "      <th>voted</th>\n",
       "      <th>void</th>\n",
       "      <th>neutral</th>\n",
       "      <th>suffrage</th>\n",
       "      <th>ghazouani_votes</th>\n",
       "      <th>biram_votes</th>\n",
       "      <th>mewloud_votes</th>\n",
       "      <th>kane_votes</th>\n",
       "      <th>wavi_votes</th>\n",
       "      <th>boubacar_votes</th>\n",
       "    </tr>\n",
       "  </thead>\n",
       "  <tbody>\n",
       "    <tr>\n",
       "      <th>0</th>\n",
       "      <td>Ecole Keleyle</td>\n",
       "      <td>Ghabou</td>\n",
       "      <td>Guidimagha</td>\n",
       "      <td>164</td>\n",
       "      <td>120</td>\n",
       "      <td>5</td>\n",
       "      <td>0</td>\n",
       "      <td>115</td>\n",
       "      <td>96</td>\n",
       "      <td>6</td>\n",
       "      <td>0</td>\n",
       "      <td>0</td>\n",
       "      <td>0</td>\n",
       "      <td>13</td>\n",
       "    </tr>\n",
       "    <tr>\n",
       "      <th>1</th>\n",
       "      <td>Lycée Moudjéria</td>\n",
       "      <td>Moudjeria</td>\n",
       "      <td>Tagant</td>\n",
       "      <td>401</td>\n",
       "      <td>220</td>\n",
       "      <td>5</td>\n",
       "      <td>1</td>\n",
       "      <td>214</td>\n",
       "      <td>154</td>\n",
       "      <td>16</td>\n",
       "      <td>27</td>\n",
       "      <td>0</td>\n",
       "      <td>1</td>\n",
       "      <td>16</td>\n",
       "    </tr>\n",
       "    <tr>\n",
       "      <th>2</th>\n",
       "      <td>RACHID</td>\n",
       "      <td>Boghé</td>\n",
       "      <td>Brakna</td>\n",
       "      <td>86</td>\n",
       "      <td>77</td>\n",
       "      <td>0</td>\n",
       "      <td>0</td>\n",
       "      <td>77</td>\n",
       "      <td>71</td>\n",
       "      <td>0</td>\n",
       "      <td>0</td>\n",
       "      <td>1</td>\n",
       "      <td>0</td>\n",
       "      <td>5</td>\n",
       "    </tr>\n",
       "    <tr>\n",
       "      <th>3</th>\n",
       "      <td>Ecole Medina Mounawara</td>\n",
       "      <td>Tintane</td>\n",
       "      <td>Hodh El Gharbi</td>\n",
       "      <td>196</td>\n",
       "      <td>164</td>\n",
       "      <td>2</td>\n",
       "      <td>0</td>\n",
       "      <td>162</td>\n",
       "      <td>156</td>\n",
       "      <td>0</td>\n",
       "      <td>0</td>\n",
       "      <td>0</td>\n",
       "      <td>0</td>\n",
       "      <td>6</td>\n",
       "    </tr>\n",
       "    <tr>\n",
       "      <th>4</th>\n",
       "      <td>Dispensaire Chami</td>\n",
       "      <td>Chami</td>\n",
       "      <td>Dakhlet Nouadhibou</td>\n",
       "      <td>559</td>\n",
       "      <td>149</td>\n",
       "      <td>2</td>\n",
       "      <td>0</td>\n",
       "      <td>147</td>\n",
       "      <td>72</td>\n",
       "      <td>13</td>\n",
       "      <td>3</td>\n",
       "      <td>1</td>\n",
       "      <td>0</td>\n",
       "      <td>58</td>\n",
       "    </tr>\n",
       "  </tbody>\n",
       "</table>\n",
       "</div>"
      ],
      "text/plain": [
       "              office_name county_name          state_name  registered  voted  \\\n",
       "0           Ecole Keleyle      Ghabou          Guidimagha         164    120   \n",
       "1         Lycée Moudjéria   Moudjeria              Tagant         401    220   \n",
       "2                  RACHID       Boghé              Brakna          86     77   \n",
       "3  Ecole Medina Mounawara     Tintane      Hodh El Gharbi         196    164   \n",
       "4       Dispensaire Chami       Chami  Dakhlet Nouadhibou         559    149   \n",
       "\n",
       "   void  neutral  suffrage  ghazouani_votes  biram_votes  mewloud_votes  \\\n",
       "0     5        0       115               96            6              0   \n",
       "1     5        1       214              154           16             27   \n",
       "2     0        0        77               71            0              0   \n",
       "3     2        0       162              156            0              0   \n",
       "4     2        0       147               72           13              3   \n",
       "\n",
       "   kane_votes  wavi_votes  boubacar_votes  \n",
       "0           0           0              13  \n",
       "1           0           1              16  \n",
       "2           1           0               5  \n",
       "3           0           0               6  \n",
       "4           1           0              58  "
      ]
     },
     "execution_count": 19,
     "metadata": {},
     "output_type": "execute_result"
    }
   ],
   "source": [
    "offices_summary.head()"
   ]
  },
  {
   "cell_type": "code",
   "execution_count": 22,
   "metadata": {},
   "outputs": [],
   "source": [
    "# add voter percentage \n",
    "offices_summary['gaz_perct'] = offices_summary.ghazouani_votes / offices_summary.suffrage \n",
    "offices_summary['biram_perct'] = offices_summary.biram_votes / offices_summary.suffrage \n",
    "offices_summary['mewloud_perct'] = offices_summary.mewloud_votes / offices_summary.suffrage \n",
    "offices_summary['kane_perct'] = offices_summary.kane_votes / offices_summary.suffrage \n",
    "offices_summary['wavi_perct'] = offices_summary.wavi_votes / offices_summary.suffrage \n",
    "offices_summary['boubacar_perct'] = offices_summary.boubacar_votes / offices_summary.suffrage \n",
    "\n",
    "# add office turnout \n",
    "offices_summary['turnout'] = offices_summary.voted / offices_summary.registered"
   ]
  },
  {
   "cell_type": "code",
   "execution_count": 23,
   "metadata": {},
   "outputs": [],
   "source": [
    "# multiply column by 100\n",
    "offices_summary['turnout'] *= 100"
   ]
  },
  {
   "cell_type": "code",
   "execution_count": 24,
   "metadata": {},
   "outputs": [
    {
     "data": {
      "text/plain": [
       "1544132"
      ]
     },
     "execution_count": 24,
     "metadata": {},
     "output_type": "execute_result"
    }
   ],
   "source": [
    "offices_summary.registered.sum()"
   ]
  },
  {
   "cell_type": "code",
   "execution_count": 25,
   "metadata": {},
   "outputs": [],
   "source": [
    "# round turnout to 2 decimal places\n",
    "offices_summary = offices_summary.round({'turnout': 2})"
   ]
  },
  {
   "cell_type": "code",
   "execution_count": 26,
   "metadata": {},
   "outputs": [
    {
     "data": {
      "text/plain": [
       "0       73.17\n",
       "1       54.86\n",
       "2       89.53\n",
       "3       83.67\n",
       "4       26.65\n",
       "5       69.49\n",
       "6       97.50\n",
       "7       41.37\n",
       "8       49.68\n",
       "9       44.16\n",
       "10      41.35\n",
       "11      59.57\n",
       "12      61.54\n",
       "13      44.53\n",
       "14      69.75\n",
       "15      52.76\n",
       "16      78.69\n",
       "17      72.28\n",
       "18      26.18\n",
       "19      72.73\n",
       "20      63.98\n",
       "21      48.05\n",
       "22      55.91\n",
       "23      44.63\n",
       "24      21.47\n",
       "25      47.17\n",
       "26      68.65\n",
       "27      47.06\n",
       "28      56.66\n",
       "29      49.76\n",
       "        ...  \n",
       "3831    45.74\n",
       "3832    45.51\n",
       "3833    46.38\n",
       "3834    66.36\n",
       "3835    72.39\n",
       "3836    48.94\n",
       "3837    54.77\n",
       "3838    97.23\n",
       "3839    79.17\n",
       "3840    52.85\n",
       "3841    64.40\n",
       "3842    78.81\n",
       "3843    55.87\n",
       "3844    42.92\n",
       "3845    33.33\n",
       "3846    64.27\n",
       "3847    55.05\n",
       "3848    65.53\n",
       "3849    73.72\n",
       "3850    51.72\n",
       "3851    62.41\n",
       "3852    73.56\n",
       "3853    49.74\n",
       "3854    58.82\n",
       "3855    74.76\n",
       "3856    56.11\n",
       "3857    80.16\n",
       "3858    58.70\n",
       "3859    57.07\n",
       "3860    71.96\n",
       "Name: turnout, Length: 3861, dtype: float64"
      ]
     },
     "execution_count": 26,
     "metadata": {},
     "output_type": "execute_result"
    }
   ],
   "source": [
    "offices_summary.turnout"
   ]
  },
  {
   "cell_type": "code",
   "execution_count": 27,
   "metadata": {},
   "outputs": [
    {
     "data": {
      "text/plain": [
       "(3861, 21)"
      ]
     },
     "execution_count": 27,
     "metadata": {},
     "output_type": "execute_result"
    }
   ],
   "source": [
    "### offices with voter turnout over 100% \n",
    "df = offices_summary[offices_summary.turnout >= .0]\n",
    "df.shape"
   ]
  },
  {
   "cell_type": "code",
   "execution_count": 28,
   "metadata": {},
   "outputs": [
    {
     "data": {
      "text/plain": [
       "(3861, 21)"
      ]
     },
     "execution_count": 28,
     "metadata": {},
     "output_type": "execute_result"
    }
   ],
   "source": [
    "offices_summary.shape"
   ]
  },
  {
   "cell_type": "code",
   "execution_count": 29,
   "metadata": {},
   "outputs": [
    {
     "data": {
      "text/plain": [
       "list"
      ]
     },
     "execution_count": 29,
     "metadata": {},
     "output_type": "execute_result"
    }
   ],
   "source": [
    "type(offices_summary.state_name.unique().tolist())"
   ]
  },
  {
   "cell_type": "code",
   "execution_count": 30,
   "metadata": {},
   "outputs": [
    {
     "name": "stderr",
     "output_type": "stream",
     "text": [
      "/Users/ahmedacheikh/anaconda3/lib/python3.6/site-packages/IPython/core/display.py:689: UserWarning:\n",
      "\n",
      "Consider using IPython.display.IFrame instead\n",
      "\n"
     ]
    },
    {
     "data": {
      "text/html": [
       "<iframe id=\"igraph\" scrolling=\"no\" style=\"border:none;\" seamless=\"seamless\" src=\"https://plot.ly/~ahmedamdg/264.embed\" height=\"525px\" width=\"100%\"></iframe>"
      ],
      "text/plain": [
       "<chart_studio.tools.PlotlyDisplay object>"
      ]
     },
     "execution_count": 30,
     "metadata": {},
     "output_type": "execute_result"
    }
   ],
   "source": [
    "# Create a trace\n",
    "trace = go.Scatter(\n",
    "    x = offices_summary.state_name.unique().tolist(),\n",
    "    y = offices_summary.turnout.unique().tolist(),\n",
    "    mode = 'markers'\n",
    ")\n",
    "\n",
    "data = [trace]\n",
    "\n",
    "# Plot and embed in ipython notebook!\n",
    "py.iplot(data, filename='basic-scatter')\n"
   ]
  },
  {
   "cell_type": "code",
   "execution_count": 16,
   "metadata": {},
   "outputs": [],
   "source": [
    "# # save offices \n",
    "# offices_summary.to_csv('../Data/detailed_offices.csv', index=False)"
   ]
  },
  {
   "cell_type": "code",
   "execution_count": null,
   "metadata": {},
   "outputs": [],
   "source": []
  }
 ],
 "metadata": {
  "kernelspec": {
   "display_name": "Python 3",
   "language": "python",
   "name": "python3"
  },
  "language_info": {
   "codemirror_mode": {
    "name": "ipython",
    "version": 3
   },
   "file_extension": ".py",
   "mimetype": "text/x-python",
   "name": "python",
   "nbconvert_exporter": "python",
   "pygments_lexer": "ipython3",
   "version": "3.6.8"
  }
 },
 "nbformat": 4,
 "nbformat_minor": 2
}
