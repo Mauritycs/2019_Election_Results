{
 "cells": [
  {
   "cell_type": "code",
   "execution_count": 2,
   "metadata": {},
   "outputs": [],
   "source": [
    "from IPython.core.interactiveshell import InteractiveShell\n",
    "InteractiveShell.ast_node_interactivity = \"all\"\n",
    "# InteractiveShell.ast_node_interactivity = \"last_expr\""
   ]
  },
  {
   "cell_type": "code",
   "execution_count": 3,
   "metadata": {},
   "outputs": [],
   "source": [
    "import plotly.plotly as py\n",
    "import plotly.graph_objs as go\n",
    "import pandas as pd\n",
    "import plotly"
   ]
  },
  {
   "cell_type": "code",
   "execution_count": 4,
   "metadata": {},
   "outputs": [],
   "source": [
    "plotly.tools.set_credentials_file(username='ahmedamdg', api_key='ogfSzyLWtDPni5gfWAPn')"
   ]
  },
  {
   "cell_type": "code",
   "execution_count": 5,
   "metadata": {},
   "outputs": [],
   "source": [
    "offices_summary = pd.read_csv('../Data/offices_summary.csv')"
   ]
  },
  {
   "cell_type": "code",
   "execution_count": 6,
   "metadata": {},
   "outputs": [
    {
     "data": {
      "text/html": [
       "<div>\n",
       "<style scoped>\n",
       "    .dataframe tbody tr th:only-of-type {\n",
       "        vertical-align: middle;\n",
       "    }\n",
       "\n",
       "    .dataframe tbody tr th {\n",
       "        vertical-align: top;\n",
       "    }\n",
       "\n",
       "    .dataframe thead th {\n",
       "        text-align: right;\n",
       "    }\n",
       "</style>\n",
       "<table border=\"1\" class=\"dataframe\">\n",
       "  <thead>\n",
       "    <tr style=\"text-align: right;\">\n",
       "      <th></th>\n",
       "      <th>office_name</th>\n",
       "      <th>county_name</th>\n",
       "      <th>state_name</th>\n",
       "      <th>registered</th>\n",
       "      <th>voted</th>\n",
       "      <th>void</th>\n",
       "      <th>neutral</th>\n",
       "      <th>suffrage</th>\n",
       "      <th>ghazouani_votes</th>\n",
       "      <th>biram_votes</th>\n",
       "      <th>mewloud_votes</th>\n",
       "      <th>kane_votes</th>\n",
       "      <th>wavi_votes</th>\n",
       "      <th>boubacar_votes</th>\n",
       "    </tr>\n",
       "  </thead>\n",
       "  <tbody>\n",
       "    <tr>\n",
       "      <th>0</th>\n",
       "      <td>Ecole Keleyle</td>\n",
       "      <td>Ghabou</td>\n",
       "      <td>Guidimagha</td>\n",
       "      <td>164</td>\n",
       "      <td>120</td>\n",
       "      <td>5</td>\n",
       "      <td>0</td>\n",
       "      <td>115</td>\n",
       "      <td>96</td>\n",
       "      <td>6</td>\n",
       "      <td>0</td>\n",
       "      <td>0</td>\n",
       "      <td>0</td>\n",
       "      <td>13</td>\n",
       "    </tr>\n",
       "    <tr>\n",
       "      <th>1</th>\n",
       "      <td>Lycée Moudjéria</td>\n",
       "      <td>Moudjeria</td>\n",
       "      <td>Tagant</td>\n",
       "      <td>401</td>\n",
       "      <td>220</td>\n",
       "      <td>5</td>\n",
       "      <td>1</td>\n",
       "      <td>214</td>\n",
       "      <td>154</td>\n",
       "      <td>16</td>\n",
       "      <td>27</td>\n",
       "      <td>0</td>\n",
       "      <td>1</td>\n",
       "      <td>16</td>\n",
       "    </tr>\n",
       "    <tr>\n",
       "      <th>2</th>\n",
       "      <td>RACHID</td>\n",
       "      <td>Boghé</td>\n",
       "      <td>Brakna</td>\n",
       "      <td>86</td>\n",
       "      <td>77</td>\n",
       "      <td>0</td>\n",
       "      <td>0</td>\n",
       "      <td>77</td>\n",
       "      <td>71</td>\n",
       "      <td>0</td>\n",
       "      <td>0</td>\n",
       "      <td>1</td>\n",
       "      <td>0</td>\n",
       "      <td>5</td>\n",
       "    </tr>\n",
       "    <tr>\n",
       "      <th>3</th>\n",
       "      <td>Ecole Medina Mounawara</td>\n",
       "      <td>Tintane</td>\n",
       "      <td>Hodh El Gharbi</td>\n",
       "      <td>196</td>\n",
       "      <td>164</td>\n",
       "      <td>2</td>\n",
       "      <td>0</td>\n",
       "      <td>162</td>\n",
       "      <td>156</td>\n",
       "      <td>0</td>\n",
       "      <td>0</td>\n",
       "      <td>0</td>\n",
       "      <td>0</td>\n",
       "      <td>6</td>\n",
       "    </tr>\n",
       "    <tr>\n",
       "      <th>4</th>\n",
       "      <td>Dispensaire Chami</td>\n",
       "      <td>Chami</td>\n",
       "      <td>Dakhlet Nouadhibou</td>\n",
       "      <td>559</td>\n",
       "      <td>149</td>\n",
       "      <td>2</td>\n",
       "      <td>0</td>\n",
       "      <td>147</td>\n",
       "      <td>72</td>\n",
       "      <td>13</td>\n",
       "      <td>3</td>\n",
       "      <td>1</td>\n",
       "      <td>0</td>\n",
       "      <td>58</td>\n",
       "    </tr>\n",
       "  </tbody>\n",
       "</table>\n",
       "</div>"
      ],
      "text/plain": [
       "              office_name county_name          state_name  registered  voted  \\\n",
       "0           Ecole Keleyle      Ghabou          Guidimagha         164    120   \n",
       "1         Lycée Moudjéria   Moudjeria              Tagant         401    220   \n",
       "2                  RACHID       Boghé              Brakna          86     77   \n",
       "3  Ecole Medina Mounawara     Tintane      Hodh El Gharbi         196    164   \n",
       "4       Dispensaire Chami       Chami  Dakhlet Nouadhibou         559    149   \n",
       "\n",
       "   void  neutral  suffrage  ghazouani_votes  biram_votes  mewloud_votes  \\\n",
       "0     5        0       115               96            6              0   \n",
       "1     5        1       214              154           16             27   \n",
       "2     0        0        77               71            0              0   \n",
       "3     2        0       162              156            0              0   \n",
       "4     2        0       147               72           13              3   \n",
       "\n",
       "   kane_votes  wavi_votes  boubacar_votes  \n",
       "0           0           0              13  \n",
       "1           0           1              16  \n",
       "2           1           0               5  \n",
       "3           0           0               6  \n",
       "4           1           0              58  "
      ]
     },
     "execution_count": 6,
     "metadata": {},
     "output_type": "execute_result"
    }
   ],
   "source": [
    "offices_summary.head()"
   ]
  },
  {
   "cell_type": "code",
   "execution_count": 7,
   "metadata": {},
   "outputs": [],
   "source": [
    "# add voter percentage \n",
    "offices_summary['gaz_perct'] = offices_summary.ghazouani_votes / offices_summary.suffrage \n",
    "offices_summary['biram_perct'] = offices_summary.biram_votes / offices_summary.suffrage \n",
    "offices_summary['mewloud_perct'] = offices_summary.mewloud_votes / offices_summary.suffrage \n",
    "offices_summary['kane_perct'] = offices_summary.kane_votes / offices_summary.suffrage \n",
    "offices_summary['wavi_perct'] = offices_summary.wavi_votes / offices_summary.suffrage \n",
    "offices_summary['boubacar_perct'] = offices_summary.boubacar_votes / offices_summary.suffrage \n",
    "\n",
    "# add office turnout \n",
    "offices_summary['turnout'] = offices_summary.voted / offices_summary.registered"
   ]
  },
  {
   "cell_type": "code",
   "execution_count": 8,
   "metadata": {},
   "outputs": [],
   "source": [
    "# multiply column by 100\n",
    "offices_summary['turnout'] *= 100"
   ]
  },
  {
   "cell_type": "code",
   "execution_count": 9,
   "metadata": {},
   "outputs": [],
   "source": [
    "# round turnout to 2 decimal places\n",
    "offices_summary = offices_summary.round({'turnout': 2})"
   ]
  },
  {
   "cell_type": "code",
   "execution_count": 13,
   "metadata": {},
   "outputs": [
    {
     "data": {
      "text/plain": [
       "63.204778554778656"
      ]
     },
     "execution_count": 13,
     "metadata": {},
     "output_type": "execute_result"
    }
   ],
   "source": [
    "offices_summary.turnout"
   ]
  },
  {
   "cell_type": "code",
   "execution_count": 14,
   "metadata": {},
   "outputs": [
    {
     "data": {
      "text/plain": [
       "(12, 21)"
      ]
     },
     "execution_count": 14,
     "metadata": {},
     "output_type": "execute_result"
    }
   ],
   "source": [
    "### offices with voter turnout over 100% \n",
    "df = offices_summary[offices_summary.turnout >= .0]\n",
    "df.shape"
   ]
  },
  {
   "cell_type": "code",
   "execution_count": 8,
   "metadata": {},
   "outputs": [
    {
     "data": {
      "text/plain": [
       "(3861, 21)"
      ]
     },
     "execution_count": 8,
     "metadata": {},
     "output_type": "execute_result"
    }
   ],
   "source": [
    "offices_summary.shape"
   ]
  },
  {
   "cell_type": "code",
   "execution_count": 9,
   "metadata": {},
   "outputs": [
    {
     "data": {
      "text/plain": [
       "list"
      ]
     },
     "execution_count": 9,
     "metadata": {},
     "output_type": "execute_result"
    }
   ],
   "source": [
    "type(offices_summary.state_name.unique().tolist())"
   ]
  },
  {
   "cell_type": "code",
   "execution_count": 11,
   "metadata": {},
   "outputs": [
    {
     "name": "stderr",
     "output_type": "stream",
     "text": [
      "/Users/ahmedacheikh/anaconda3/lib/python3.6/site-packages/IPython/core/display.py:689: UserWarning:\n",
      "\n",
      "Consider using IPython.display.IFrame instead\n",
      "\n"
     ]
    },
    {
     "data": {
      "text/html": [
       "<iframe id=\"igraph\" scrolling=\"no\" style=\"border:none;\" seamless=\"seamless\" src=\"https://plot.ly/~ahmedamdg/204.embed\" height=\"525px\" width=\"100%\"></iframe>"
      ],
      "text/plain": [
       "<chart_studio.tools.PlotlyDisplay object>"
      ]
     },
     "execution_count": 11,
     "metadata": {},
     "output_type": "execute_result"
    }
   ],
   "source": [
    "# Create a trace\n",
    "trace = go.Scatter(\n",
    "    x = offices_summary.state_name.unique().tolist(),\n",
    "    y = offices_summary.turnout.unique().tolist(),\n",
    "    mode = 'markers'\n",
    ")\n",
    "\n",
    "data = [trace]\n",
    "\n",
    "# Plot and embed in ipython notebook!\n",
    "py.iplot(data, filename='basic-scatter')\n"
   ]
  },
  {
   "cell_type": "code",
   "execution_count": 16,
   "metadata": {},
   "outputs": [],
   "source": [
    "# # save offices \n",
    "# offices_summary.to_csv('../Data/detailed_offices.csv', index=False)"
   ]
  },
  {
   "cell_type": "code",
   "execution_count": null,
   "metadata": {},
   "outputs": [],
   "source": []
  }
 ],
 "metadata": {
  "kernelspec": {
   "display_name": "Python 3",
   "language": "python",
   "name": "python3"
  },
  "language_info": {
   "codemirror_mode": {
    "name": "ipython",
    "version": 3
   },
   "file_extension": ".py",
   "mimetype": "text/x-python",
   "name": "python",
   "nbconvert_exporter": "python",
   "pygments_lexer": "ipython3",
   "version": "3.6.8"
  }
 },
 "nbformat": 4,
 "nbformat_minor": 2
}
