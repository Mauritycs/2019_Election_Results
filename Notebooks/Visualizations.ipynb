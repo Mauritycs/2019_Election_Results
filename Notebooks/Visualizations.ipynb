{
 "cells": [
  {
   "cell_type": "code",
   "execution_count": 1,
   "metadata": {},
   "outputs": [],
   "source": [
    "import plotly\n",
    "import plotly.plotly as py\n",
    "import plotly.graph_objs as go\n",
    "\n",
    "import pandas as pd"
   ]
  },
  {
   "cell_type": "code",
   "execution_count": 2,
   "metadata": {},
   "outputs": [],
   "source": [
    "from IPython.core.interactiveshell import InteractiveShell\n",
    "InteractiveShell.ast_node_interactivity = \"all\"\n",
    "# InteractiveShell.ast_node_interactivity = \"last_expr\""
   ]
  },
  {
   "cell_type": "code",
   "execution_count": 3,
   "metadata": {},
   "outputs": [],
   "source": [
    "plotly.tools.set_credentials_file(username='ahmedamdg', api_key='ogfSzyLWtDPni5gfWAPn')"
   ]
  },
  {
   "cell_type": "code",
   "execution_count": 4,
   "metadata": {},
   "outputs": [
    {
     "data": {
      "text/plain": [
       "'3.10.0'"
      ]
     },
     "execution_count": 4,
     "metadata": {},
     "output_type": "execute_result"
    }
   ],
   "source": [
    "plotly.__version__"
   ]
  },
  {
   "cell_type": "code",
   "execution_count": 5,
   "metadata": {},
   "outputs": [],
   "source": [
    "path = '../Data/election_data.csv'\n",
    "election_data = pd.read_csv(path)"
   ]
  },
  {
   "cell_type": "code",
   "execution_count": 6,
   "metadata": {},
   "outputs": [],
   "source": [
    "election_data = election_data.drop('Unnamed: 0', axis=1)"
   ]
  },
  {
   "cell_type": "code",
   "execution_count": 7,
   "metadata": {},
   "outputs": [],
   "source": [
    "# number of candidates \n",
    "number_candidates = 6"
   ]
  },
  {
   "cell_type": "code",
   "execution_count": 8,
   "metadata": {},
   "outputs": [
    {
     "data": {
      "text/plain": [
       "array(['Guidimagha', 'Tagant', 'Brakna', 'Hodh El Gharbi',\n",
       "       'Dakhlet Nouadhibou', 'Tiris Zemmour', 'Trarza', 'Hodh Chargui',\n",
       "       'Assaba', 'Gorgol', 'Nouakchott Ouest', 'Nouakchott Sud',\n",
       "       'Inchiri', 'Adrar', 'Nouakchott Nord', 'Etranger'], dtype=object)"
      ]
     },
     "execution_count": 8,
     "metadata": {},
     "output_type": "execute_result"
    },
    {
     "data": {
      "text/plain": [
       "array(['Mohamed Cheïkh Mohamed Ahmed ElGHAZOUANI (Ghazouani)',\n",
       "       'Sidi Mohamed Boubacar BOUSSALEF (Boubacar)',\n",
       "       'Biram Dah Dah ABEID (Biram)', 'Mohamed Sidi MAOULOUD (Maouloud)',\n",
       "       'Mohamed Lemine El Mourteji El WAVI (Wavi)',\n",
       "       'KANE Hamidou Baba (Kane)'], dtype=object)"
      ]
     },
     "execution_count": 8,
     "metadata": {},
     "output_type": "execute_result"
    },
    {
     "data": {
      "text/plain": [
       "array(['Ghabou', 'Moudjeria', 'Boghé', 'Tintane', 'Chami', \"F'Deirick\",\n",
       "       'Rosso', 'Amourj', 'Ouad Naga', 'Bassiknou', 'Tamcheket', 'Kiffa',\n",
       "       'Aleg', \"M'Bout\", 'Timbedra', 'Koubenni', 'Mederdra', \"R'Kiz\",\n",
       "       'Ksar', 'Monguel', 'Riyad', 'Kaédi', 'Keur Macène', 'Guerou',\n",
       "       'Nouadhibou', \"N'beiket Lahwach\", 'Sebkha', 'Magtalahjar',\n",
       "       'El Mina', 'Barkéol', 'Bennechab', 'Boumdeid', 'Aïoun', 'Atar',\n",
       "       'Tidjikja', 'Dar Naïm', 'Néma', 'Arafat', 'Djiguenni', 'Zoueratt',\n",
       "       'Sélibaby', 'Ould Yengé', 'Ouadane', 'Oualata', 'Bir Moghrein',\n",
       "       'Maghama', 'Akjoujt', 'Tevragh Zeina', 'Bababé', 'Teyaret',\n",
       "       'Chinguitti', 'Asie', 'Afrique', 'Europe', 'Aoujeft', \"M'Bagne\",\n",
       "       'Tichit', 'Toujounine', 'Kankoussa', 'Boutilimit'], dtype=object)"
      ]
     },
     "execution_count": 8,
     "metadata": {},
     "output_type": "execute_result"
    }
   ],
   "source": [
    "# state names \n",
    "states_list = election_data.state.unique()\n",
    "states_list\n",
    "\n",
    "candidates_list = election_data.candidate.unique()\n",
    "candidates_list\n",
    "\n",
    "counties_list = election_data.county.unique()\n",
    "counties_list"
   ]
  },
  {
   "cell_type": "code",
   "execution_count": 9,
   "metadata": {},
   "outputs": [],
   "source": [
    "# candidates' empty lists to hold their respective percentages\n",
    "gaz_state_percts = []\n",
    "boubac_state_percts = []\n",
    "biram_state_percts = []\n",
    "maouloud_state_percts = []\n",
    "wavi_state_percts = []\n",
    "kane_state_percts = []"
   ]
  },
  {
   "cell_type": "code",
   "execution_count": 10,
   "metadata": {},
   "outputs": [
    {
     "data": {
      "text/plain": [
       "0.4168505860421265"
      ]
     },
     "execution_count": 10,
     "metadata": {},
     "output_type": "execute_result"
    }
   ],
   "source": [
    "# df filtered to guidimagha and candidate Ghazwani \n",
    "gaz_guid_df = election_data[(election_data.state == states_list[0]) & (election_data.candidate == candidates_list[0])]\n",
    "\n",
    "# get perct won by Ghazouani in the state of Guidimagha \n",
    "gaz_guid_df.candidate_votes.sum() / gaz_guid_df.suffrage.sum()"
   ]
  },
  {
   "cell_type": "code",
   "execution_count": 11,
   "metadata": {},
   "outputs": [
    {
     "ename": "SyntaxError",
     "evalue": "invalid syntax (<ipython-input-11-1fc3e9fa8d5d>, line 1)",
     "output_type": "error",
     "traceback": [
      "\u001b[0;36m  File \u001b[0;32m\"<ipython-input-11-1fc3e9fa8d5d>\"\u001b[0;36m, line \u001b[0;32m1\u001b[0m\n\u001b[0;31m    election_data[(election_data.state == ) & (election_data.candidate == candidates_list[0])].candidate_votes.sum() / election_data[(election_data.state == states_list[i]) & (election_data.candidate == candidates_list[0])].suffrage.sum()\u001b[0m\n\u001b[0m                                          ^\u001b[0m\n\u001b[0;31mSyntaxError\u001b[0m\u001b[0;31m:\u001b[0m invalid syntax\n"
     ]
    }
   ],
   "source": [
    "election_data[(election_data.state == ) & (election_data.candidate == candidates_list[0])].candidate_votes.sum() / election_data[(election_data.state == states_list[i]) & (election_data.candidate == candidates_list[0])].suffrage.sum()\n",
    "\n"
   ]
  },
  {
   "cell_type": "code",
   "execution_count": 12,
   "metadata": {},
   "outputs": [],
   "source": [
    "# loop through states list and append each candidate's state won percts in their respective lists \n",
    "for i in states_list:\n",
    "    \n",
    "    gaz_state_percts.append(election_data[(election_data.state == i) & (election_data.candidate == candidates_list[0])].candidate_votes.sum() / election_data[(election_data.state == i) & (election_data.candidate == candidates_list[0])].suffrage.sum())\n",
    "    boubac_state_percts.append(election_data[(election_data.state == i) & (election_data.candidate == candidates_list[1])].candidate_votes.sum() / election_data[(election_data.state == i) & (election_data.candidate == candidates_list[1])].suffrage.sum())\n",
    "    biram_state_percts.append(election_data[(election_data.state == i) & (election_data.candidate == candidates_list[2])].candidate_votes.sum() / election_data[(election_data.state == i) & (election_data.candidate == candidates_list[2])].suffrage.sum())\n",
    "    maouloud_state_percts.append(election_data[(election_data.state == i) & (election_data.candidate == candidates_list[3])].candidate_votes.sum() / election_data[(election_data.state == i) & (election_data.candidate == candidates_list[3])].suffrage.sum())\n",
    "    wavi_state_percts.append(election_data[(election_data.state == i) & (election_data.candidate == candidates_list[4])].candidate_votes.sum() / election_data[(election_data.state == i) & (election_data.candidate == candidates_list[4])].suffrage.sum())\n",
    "    kane_state_percts.append(election_data[(election_data.state == i) & (election_data.candidate == candidates_list[5])].candidate_votes.sum() / election_data[(election_data.state == i) & (election_data.candidate == candidates_list[5])].suffrage.sum())\n",
    "    "
   ]
  },
  {
   "cell_type": "code",
   "execution_count": 13,
   "metadata": {},
   "outputs": [],
   "source": [
    "# create a new column with candidate percts\n",
    "election_data[\"candidate_perct\"] = election_data.candidate_votes / election_data.suffrage"
   ]
  },
  {
   "cell_type": "code",
   "execution_count": 14,
   "metadata": {},
   "outputs": [],
   "source": [
    "gaz = election_data[(election_data.candidate == candidates_list[0])]"
   ]
  },
  {
   "cell_type": "code",
   "execution_count": 15,
   "metadata": {},
   "outputs": [],
   "source": [
    "# round candidate percentages\n",
    "gaz_rounded = [ str(round(elem*100, 2)) + \"%\" for elem in gaz_state_percts ]\n",
    "boubacar_rounded = [ str(round(elem*100, 2)) + \"%\" for elem in boubac_state_percts ]\n",
    "biram_rounded = [ str(round(elem*100, 2)) + \"%\" for elem in biram_state_percts ]\n",
    "mewloud_rounded = [ str(round(elem*100, 2)) + \"%\" for elem in maouloud_state_percts ]\n",
    "wavi_rounded = [ str(round(elem*100, 2)) + \"%\" for elem in wavi_state_percts ]\n",
    "kane_rounded = [ str(round(elem*100, 2)) + \"%\" for elem in kane_state_percts ]"
   ]
  },
  {
   "cell_type": "markdown",
   "metadata": {},
   "source": [
    "### Dot Plot"
   ]
  },
  {
   "cell_type": "code",
   "execution_count": 17,
   "metadata": {},
   "outputs": [
    {
     "data": {
      "text/html": [
       "<iframe id=\"igraph\" scrolling=\"no\" style=\"border:none;\" seamless=\"seamless\" src=\"https://plot.ly/~ahmedamdg/266.embed\" height=\"600px\" width=\"800px\"></iframe>"
      ],
      "text/plain": [
       "<chart_studio.tools.PlotlyDisplay object>"
      ]
     },
     "execution_count": 17,
     "metadata": {},
     "output_type": "execute_result"
    }
   ],
   "source": [
    "# set states as state list\n",
    "states = states_list\n",
    "\n",
    "ghazwani = gaz_rounded\n",
    "boubacar = boubacar_rounded\n",
    "biram = biram_rounded\n",
    "mewloud = mewloud_rounded\n",
    "wavi = wavi_rounded\n",
    "kane = kane_rounded\n",
    "\n",
    "\n",
    "trace0 = go.Scatter(\n",
    "    x=ghazwani,\n",
    "    y=states,\n",
    "    mode='markers',\n",
    "    name='Ghazouani',\n",
    "    marker=dict(\n",
    "        color='Dark Blue',\n",
    "        line=dict(\n",
    "            color='navy',\n",
    "            width=1,\n",
    "        ),\n",
    "        symbol='circle',\n",
    "        size=16,\n",
    "    )\n",
    ")\n",
    "trace1 = go.Scatter(\n",
    "    x=boubacar,\n",
    "    y=states,\n",
    "    mode='markers',\n",
    "    name='Boubacar',\n",
    "    marker=dict(\n",
    "        color='red',\n",
    "        line=dict(\n",
    "            color='rgba(217, 217, 217, 1.0)',\n",
    "            width=1,\n",
    "        ),\n",
    "        symbol='circle',\n",
    "        size=16,\n",
    "    )\n",
    ")\n",
    "\n",
    "trace2 = go.Scatter(\n",
    "    x=biram,\n",
    "    y=states,\n",
    "    mode='markers',\n",
    "    name='Biram',\n",
    "    marker=dict(\n",
    "        color='green',\n",
    "        line=dict(\n",
    "            color='green',\n",
    "            width=1,\n",
    "        ),\n",
    "        symbol='circle',\n",
    "        size=16,\n",
    "    )\n",
    ")\n",
    "\n",
    "trace3 = go.Scatter(\n",
    "    x=mewloud,\n",
    "    y=states,\n",
    "    mode='markers',\n",
    "    name='Maouloud',\n",
    "    marker=dict(\n",
    "        color='black',\n",
    "        line=dict(\n",
    "            color='rgba(217, 217, 217, 1.0)',\n",
    "            width=1,\n",
    "        ),\n",
    "        symbol='circle',\n",
    "        size=16,\n",
    "    )\n",
    ")\n",
    "\n",
    "trace4 = go.Scatter(\n",
    "    x=wavi,\n",
    "    y=states,\n",
    "    mode='markers',\n",
    "    name='Wavi',\n",
    "    marker=dict(\n",
    "        color='purple',\n",
    "        line=dict(\n",
    "            color='rgba(217, 217, 217, 1.0)',\n",
    "            width=1,\n",
    "        ),\n",
    "        symbol='circle',\n",
    "        size=16,\n",
    "    )\n",
    ")\n",
    "\n",
    "trace5 = go.Scatter(\n",
    "    x=kane,\n",
    "    y=states,\n",
    "    mode='markers',\n",
    "    name='Kane',\n",
    "    marker=dict(\n",
    "        color='orange',\n",
    "        line=dict(\n",
    "            color='rgba(217, 217, 217, 1.0)',\n",
    "            width=1,\n",
    "        ),\n",
    "        symbol='circle',\n",
    "        size=16,\n",
    "    )\n",
    ")\n",
    "\n",
    "data = [trace0, trace1, trace2, trace3, trace4, trace5]\n",
    "layout = go.Layout(\n",
    "    title=\"Candidate Percentages by State\",\n",
    "    xaxis=dict(\n",
    "        showgrid=True,\n",
    "        showline=True,\n",
    "        linecolor='rgb(102, 102, 102)',\n",
    "        titlefont=dict(\n",
    "            color='rgb(204, 204, 204)'\n",
    "        ),\n",
    "        tickfont=dict(\n",
    "            color='rgb(102, 102, 102)',\n",
    "        ),\n",
    "        showticklabels=True,\n",
    "        dtick=10,\n",
    "        ticks='outside',\n",
    "        tickcolor='rgb(102, 102, 102)',\n",
    "    ),\n",
    "    margin=dict(\n",
    "        l=140,\n",
    "        r=40,\n",
    "        b=50,\n",
    "        t=80\n",
    "    ),\n",
    "    legend=dict(\n",
    "        font=dict(\n",
    "            size=10,\n",
    "        ),\n",
    "        yanchor='middle',\n",
    "        xanchor='right',\n",
    "    ),\n",
    "    width=800,\n",
    "    height=600,\n",
    "    paper_bgcolor='rgb(254, 247, 234)',\n",
    "    plot_bgcolor='rgb(254, 247, 234)',\n",
    "    hovermode='closest',\n",
    ")\n",
    "fig = go.Figure(data=data, layout=layout)\n",
    "py.iplot(fig, filename='lowest-oecd-votes-cast')"
   ]
  },
  {
   "cell_type": "markdown",
   "metadata": {},
   "source": [
    "### Groupby Objects"
   ]
  },
  {
   "cell_type": "code",
   "execution_count": 56,
   "metadata": {},
   "outputs": [
    {
     "data": {
      "text/plain": [
       "candidate\n",
       "Biram Dah Dah ABEID (Biram)                             172656\n",
       "KANE Hamidou Baba (Kane)                                 80916\n",
       "Mohamed Cheïkh Mohamed Ahmed ElGHAZOUANI (Ghazouani)    483312\n",
       "Mohamed Lemine El Mourteji El WAVI (Wavi)                 3676\n",
       "Mohamed Sidi MAOULOUD (Maouloud)                         22695\n",
       "Sidi Mohamed Boubacar BOUSSALEF (Boubacar)              166058\n",
       "Name: candidate_votes, dtype: int64"
      ]
     },
     "execution_count": 56,
     "metadata": {},
     "output_type": "execute_result"
    }
   ],
   "source": [
    "# create a new column with candidate percts\n",
    "election_data[\"candidate_perct\"] = election_data.candidate_votes / election_data.suffrage\n",
    "\n",
    "groupby_candidate = election_data.groupby([\"candidate\"]).sum()[\"candidate_votes\"]\n",
    "groupby_candidate"
   ]
  },
  {
   "cell_type": "markdown",
   "metadata": {},
   "source": [
    "### Bar Plot of turnout <br>\n"
   ]
  },
  {
   "cell_type": "code",
   "execution_count": 19,
   "metadata": {},
   "outputs": [
    {
     "data": {
      "text/plain": [
       "0    0.731707\n",
       "1    0.731707\n",
       "2    0.731707\n",
       "3    0.731707\n",
       "4    0.731707\n",
       "5    0.731707\n",
       "dtype: float64"
      ]
     },
     "execution_count": 19,
     "metadata": {},
     "output_type": "execute_result"
    }
   ],
   "source": [
    "# calculate average turnout \n",
    "# According to CENI voter turnout is calculated \n",
    "# by dividing the number of people who voted by the number of people registered. \n",
    "## voted / registered ==> gives us a list ==> average  \n",
    "\n",
    "election_data[election_data.center == 'Ecole Keleyle'].voted / election_data[election_data.center == 'Ecole Keleyle'].registered\n"
   ]
  },
  {
   "cell_type": "code",
   "execution_count": 20,
   "metadata": {},
   "outputs": [],
   "source": [
    "# setting variable for loop \n",
    "total_voted_per_county = int((election_data[election_data.county == 'Ghabou' ].voted.sum()) / number_candidates)\n",
    "total_registered_per_county = int((election_data[election_data.county == 'Ghabou' ].registered.sum())  /  number_candidates) \n"
   ]
  },
  {
   "cell_type": "code",
   "execution_count": 21,
   "metadata": {},
   "outputs": [
    {
     "data": {
      "text/plain": [
       "0.6822282363554353"
      ]
     },
     "execution_count": 21,
     "metadata": {},
     "output_type": "execute_result"
    }
   ],
   "source": [
    "total_voted_per_county / total_registered_per_county"
   ]
  },
  {
   "cell_type": "code",
   "execution_count": 22,
   "metadata": {},
   "outputs": [
    {
     "data": {
      "text/plain": [
       "['68.22%',\n",
       " '62.72%',\n",
       " '68.96%',\n",
       " '54.3%',\n",
       " '33.38%',\n",
       " '55.2%',\n",
       " '69.34%',\n",
       " '57.12%',\n",
       " '58.76%',\n",
       " '50.72%',\n",
       " '70.67%',\n",
       " '52.69%',\n",
       " '61.98%',\n",
       " '56.68%',\n",
       " '55.25%',\n",
       " '54.32%',\n",
       " '62.75%',\n",
       " '61.42%',\n",
       " '63.0%',\n",
       " '52.91%',\n",
       " '73.48%',\n",
       " '72.11%',\n",
       " '59.29%',\n",
       " '49.57%',\n",
       " '72.72%',\n",
       " '61.33%',\n",
       " '68.95%',\n",
       " '61.33%',\n",
       " '76.95%',\n",
       " '54.94%',\n",
       " '52.3%',\n",
       " '77.24%',\n",
       " '58.48%',\n",
       " '59.16%',\n",
       " '62.29%',\n",
       " '67.99%',\n",
       " '64.05%',\n",
       " '72.42%',\n",
       " '60.3%',\n",
       " '73.25%',\n",
       " '68.75%',\n",
       " '63.48%',\n",
       " '60.86%',\n",
       " '59.82%',\n",
       " '52.91%',\n",
       " '68.88%',\n",
       " '61.41%',\n",
       " '61.74%',\n",
       " '65.01%',\n",
       " '62.77%',\n",
       " '40.25%',\n",
       " '40.49%',\n",
       " '49.74%',\n",
       " '57.74%',\n",
       " '61.04%',\n",
       " '68.69%',\n",
       " '73.19%',\n",
       " '62.15%',\n",
       " '55.87%',\n",
       " '65.1%']"
      ]
     },
     "execution_count": 22,
     "metadata": {},
     "output_type": "execute_result"
    }
   ],
   "source": [
    "# list to hold percentage turnout by county\n",
    "counties_turnout_perct = []\n",
    "\n",
    "# loop through election data to calculate turnout for each state and append to list\n",
    "for i in counties_list:\n",
    "    counties_turnout_perct.append(((election_data[election_data.county == i ].voted.sum()) / 6 ) / ((election_data[election_data.county == i ].registered.sum())  / 6 ))\n",
    "\n",
    "# list of turnout number without % sign \n",
    "counties_turnout = [ round(j*100, 2) for j in counties_turnout_perct ]\n",
    "\n",
    "# list with percentage sign for display\n",
    "counties_turnout_perct = [ str(round(j*100, 2)) + \"%\" for j in counties_turnout_perct ] \n",
    "\n",
    "counties_turnout_perct"
   ]
  },
  {
   "cell_type": "code",
   "execution_count": 23,
   "metadata": {},
   "outputs": [
    {
     "data": {
      "text/html": [
       "<iframe id=\"igraph\" scrolling=\"no\" style=\"border:none;\" seamless=\"seamless\" src=\"https://plot.ly/~ahmedamdg/200.embed\" height=\"525px\" width=\"100%\"></iframe>"
      ],
      "text/plain": [
       "<chart_studio.tools.PlotlyDisplay object>"
      ]
     },
     "execution_count": 23,
     "metadata": {},
     "output_type": "execute_result"
    }
   ],
   "source": [
    "x=counties_list\n",
    "y=counties_turnout_perct\n",
    "\n",
    "data = [go.Bar(\n",
    "            x=counties_list,\n",
    "            y=counties_turnout_perct,\n",
    "    marker={\n",
    "   \n",
    "        'colorscale': 'Viridis'\n",
    "    }\n",
    ")]\n",
    "\n",
    "layout = {\n",
    "    'xaxis': {\n",
    "        'categoryorder': 'array',\n",
    "        'categoryarray': [x for _, x in sorted(zip(y, x))]\n",
    "    }\n",
    "}\n",
    "\n",
    "fig = go.FigureWidget(data=data, layout=layout)\n",
    "py.iplot(data)"
   ]
  },
  {
   "cell_type": "code",
   "execution_count": 24,
   "metadata": {},
   "outputs": [
    {
     "data": {
      "text/html": [
       "<div>\n",
       "<style scoped>\n",
       "    .dataframe tbody tr th:only-of-type {\n",
       "        vertical-align: middle;\n",
       "    }\n",
       "\n",
       "    .dataframe tbody tr th {\n",
       "        vertical-align: top;\n",
       "    }\n",
       "\n",
       "    .dataframe thead th {\n",
       "        text-align: right;\n",
       "    }\n",
       "</style>\n",
       "<table border=\"1\" class=\"dataframe\">\n",
       "  <thead>\n",
       "    <tr style=\"text-align: right;\">\n",
       "      <th></th>\n",
       "      <th>state_code</th>\n",
       "      <th>state</th>\n",
       "      <th>county</th>\n",
       "      <th>town</th>\n",
       "      <th>center</th>\n",
       "      <th>center_id</th>\n",
       "      <th>office_id</th>\n",
       "      <th>registered</th>\n",
       "      <th>voted</th>\n",
       "      <th>void</th>\n",
       "      <th>neutral</th>\n",
       "      <th>suffrage</th>\n",
       "      <th>candidate_votes</th>\n",
       "      <th>candidate</th>\n",
       "    </tr>\n",
       "  </thead>\n",
       "  <tbody>\n",
       "    <tr>\n",
       "      <th>0</th>\n",
       "      <td>10</td>\n",
       "      <td>Guidimagha</td>\n",
       "      <td>Ghabou</td>\n",
       "      <td>Baydjam</td>\n",
       "      <td>Ecole Keleyle</td>\n",
       "      <td>7</td>\n",
       "      <td>1</td>\n",
       "      <td>164</td>\n",
       "      <td>120</td>\n",
       "      <td>5</td>\n",
       "      <td>0</td>\n",
       "      <td>115</td>\n",
       "      <td>96</td>\n",
       "      <td>Mohamed Cheïkh Mohamed Ahmed ElGHAZOUANI (Ghaz...</td>\n",
       "    </tr>\n",
       "    <tr>\n",
       "      <th>384</th>\n",
       "      <td>10</td>\n",
       "      <td>Guidimagha</td>\n",
       "      <td>Ghabou</td>\n",
       "      <td>Baydjam</td>\n",
       "      <td>Ecole Chiyé 2</td>\n",
       "      <td>3</td>\n",
       "      <td>1</td>\n",
       "      <td>366</td>\n",
       "      <td>234</td>\n",
       "      <td>12</td>\n",
       "      <td>0</td>\n",
       "      <td>222</td>\n",
       "      <td>82</td>\n",
       "      <td>Mohamed Cheïkh Mohamed Ahmed ElGHAZOUANI (Ghaz...</td>\n",
       "    </tr>\n",
       "  </tbody>\n",
       "</table>\n",
       "</div>"
      ],
      "text/plain": [
       "     state_code       state  county     town         center  center_id  \\\n",
       "0            10  Guidimagha  Ghabou  Baydjam  Ecole Keleyle          7   \n",
       "384          10  Guidimagha  Ghabou  Baydjam  Ecole Chiyé 2          3   \n",
       "\n",
       "     office_id  registered  voted  void  neutral  suffrage  candidate_votes  \\\n",
       "0            1         164    120     5        0       115               96   \n",
       "384          1         366    234    12        0       222               82   \n",
       "\n",
       "                                             candidate  \n",
       "0    Mohamed Cheïkh Mohamed Ahmed ElGHAZOUANI (Ghaz...  \n",
       "384  Mohamed Cheïkh Mohamed Ahmed ElGHAZOUANI (Ghaz...  "
      ]
     },
     "execution_count": 24,
     "metadata": {},
     "output_type": "execute_result"
    }
   ],
   "source": [
    "election_data[(election_data.county == counties_list[0]) & (election_data.candidate == candidates_list[0])].head(2)"
   ]
  },
  {
   "cell_type": "code",
   "execution_count": 34,
   "metadata": {},
   "outputs": [],
   "source": [
    "# lists to hold percentages won by candidates in different counties \n",
    "gaz_counties_percts = []\n",
    "boubac_counties_percts = []\n",
    "biram_counties_percts = []\n",
    "mewloud_counties_percts = []\n",
    "wavi_counties_percts = []\n",
    "kane_counties_percts = []\n",
    "void_counties_percts = []\n",
    "neutral_counties_percts = []"
   ]
  },
  {
   "cell_type": "code",
   "execution_count": 35,
   "metadata": {},
   "outputs": [
    {
     "data": {
      "text/plain": [
       "4695"
      ]
     },
     "execution_count": 35,
     "metadata": {},
     "output_type": "execute_result"
    },
    {
     "data": {
      "text/plain": [
       "0.4134742404227213"
      ]
     },
     "execution_count": 35,
     "metadata": {},
     "output_type": "execute_result"
    }
   ],
   "source": [
    "###### Test to properly construct the for loop \n",
    "# df filtered to 'Guidimagha' and Ghazouani\n",
    "gaz_guid_df = election_data[(election_data.county == counties_list[0]) & (election_data.candidate == candidates_list[0])]\n",
    "\n",
    "# get candidate sum, unique \n",
    "gaz_guid_df.candidate_votes.sum()\n",
    "\n",
    "# get his percentage \n",
    "gaz_guid_df.candidate_votes.sum() / gaz_guid_df.suffrage.sum()"
   ]
  },
  {
   "cell_type": "code",
   "execution_count": 37,
   "metadata": {},
   "outputs": [
    {
     "ename": "SyntaxError",
     "evalue": "invalid syntax (<ipython-input-37-14c1fd36b453>, line 4)",
     "output_type": "error",
     "traceback": [
      "\u001b[0;36m  File \u001b[0;32m\"<ipython-input-37-14c1fd36b453>\"\u001b[0;36m, line \u001b[0;32m4\u001b[0m\n\u001b[0;31m    boubac_counties_percts.append(election_data[(election_data.county == i) & (election_data.candidate == candidates_list[1])].candidates_votes.sum() / (election_data[(election_data.county == i) & (election_data.candidate == candidates_list[1])].suffrage.sum())\u001b[0m\n\u001b[0m                         ^\u001b[0m\n\u001b[0;31mSyntaxError\u001b[0m\u001b[0;31m:\u001b[0m invalid syntax\n"
     ]
    }
   ],
   "source": [
    "# loop through all 60 counties and get each candidate's percentage from the election data then append to respective list  \n",
    "for i in counties_list:\n",
    "    \n",
    "    gaz_counties_percts.append(election_data[(election_data.county == i) & (election_data.candidate == candidates_list[0])].candidate_votes.sum() / (election_data[(election_data.county == i) & (election_data.candidate == candidates_list[0])].suffrage.sum())\n",
    "    boubac_counties_percts.append(election_data[(election_data.county == i) & (election_data.candidate == candidates_list[1])].candidate_votes.sum() / (election_data[(election_data.county == i) & (election_data.candidate == candidates_list[1])].suffrage.sum())\n",
    "    biram_counties_percts.append(election_data[(election_data.county == i) & (election_data.candidate == candidates_list[2])].candidate_votes.sum() / (election_data[(election_data.county == i) & (election_data.candidate == candidates_list[2])].suffrage.sum())\n",
    "    mewloud_counties_percts.append(election_data[(election_data.county == i) & (election_data.candidate == candidates_list[3])].candidate_votes.sum() / (election_data[(election_data.county == i) & (election_data.candidate == candidates_list[3])].suffrage.sum())\n",
    "    wavi_counties_percts.append(election_data[(election_data.county == i) & (election_data.candidate == candidates_list[4])].candidate_votes.sum() / (election_data[(election_data.county == i) & (election_data.candidate == candidates_list[4])].suffrage.sum())\n",
    "    kane_counties_percts.append(election_data[(election_data.county == i) & (election_data.candidate == candidates_list[5])].candidate_votes.sum() / election_data[(election_data.county == i) & (election_data.candidate == candidates_list[5])].suffrage.sum())\n",
    "    \n",
    "#     gaz_state_percts.append(election_data[(election_data.state == i) & (election_data.candidate == candidates_list[0])].candidate_votes.sum() / election_data[(election_data.state == i) & (election_data.candidate == candidates_list[0])].suffrage.sum())\n",
    " "
   ]
  },
  {
   "cell_type": "markdown",
   "metadata": {},
   "source": [
    "### Map plot "
   ]
  },
  {
   "cell_type": "code",
   "execution_count": 76,
   "metadata": {},
   "outputs": [],
   "source": [
    "counties_coord_df = pd.read_csv('../Data/counties_geocodes.csv')"
   ]
  },
  {
   "cell_type": "code",
   "execution_count": 78,
   "metadata": {},
   "outputs": [
    {
     "data": {
      "text/html": [
       "<div>\n",
       "<style scoped>\n",
       "    .dataframe tbody tr th:only-of-type {\n",
       "        vertical-align: middle;\n",
       "    }\n",
       "\n",
       "    .dataframe tbody tr th {\n",
       "        vertical-align: top;\n",
       "    }\n",
       "\n",
       "    .dataframe thead th {\n",
       "        text-align: right;\n",
       "    }\n",
       "</style>\n",
       "<table border=\"1\" class=\"dataframe\">\n",
       "  <thead>\n",
       "    <tr style=\"text-align: right;\">\n",
       "      <th></th>\n",
       "      <th>Unnamed: 0</th>\n",
       "      <th>index</th>\n",
       "      <th>county_code</th>\n",
       "      <th>county</th>\n",
       "      <th>state_code</th>\n",
       "      <th>lat</th>\n",
       "      <th>lng</th>\n",
       "    </tr>\n",
       "  </thead>\n",
       "  <tbody>\n",
       "    <tr>\n",
       "      <th>0</th>\n",
       "      <td>0</td>\n",
       "      <td>3</td>\n",
       "      <td>101</td>\n",
       "      <td>Néma</td>\n",
       "      <td>1</td>\n",
       "      <td>16.614370</td>\n",
       "      <td>-7.259891</td>\n",
       "    </tr>\n",
       "    <tr>\n",
       "      <th>1</th>\n",
       "      <td>1</td>\n",
       "      <td>4</td>\n",
       "      <td>102</td>\n",
       "      <td>Amourj</td>\n",
       "      <td>1</td>\n",
       "      <td>15.848233</td>\n",
       "      <td>-7.265286</td>\n",
       "    </tr>\n",
       "    <tr>\n",
       "      <th>2</th>\n",
       "      <td>2</td>\n",
       "      <td>5</td>\n",
       "      <td>103</td>\n",
       "      <td>Bassiknou</td>\n",
       "      <td>1</td>\n",
       "      <td>15.861876</td>\n",
       "      <td>-5.954182</td>\n",
       "    </tr>\n",
       "  </tbody>\n",
       "</table>\n",
       "</div>"
      ],
      "text/plain": [
       "   Unnamed: 0  index  county_code     county  state_code        lat       lng\n",
       "0           0      3          101       Néma           1  16.614370 -7.259891\n",
       "1           1      4          102     Amourj           1  15.848233 -7.265286\n",
       "2           2      5          103  Bassiknou           1  15.861876 -5.954182"
      ]
     },
     "execution_count": 78,
     "metadata": {},
     "output_type": "execute_result"
    }
   ],
   "source": [
    "counties_coord_df.head(3)"
   ]
  }
 ],
 "metadata": {
  "kernelspec": {
   "display_name": "Python 3",
   "language": "python",
   "name": "python3"
  },
  "language_info": {
   "codemirror_mode": {
    "name": "ipython",
    "version": 3
   },
   "file_extension": ".py",
   "mimetype": "text/x-python",
   "name": "python",
   "nbconvert_exporter": "python",
   "pygments_lexer": "ipython3",
   "version": "3.6.8"
  }
 },
 "nbformat": 4,
 "nbformat_minor": 2
}
