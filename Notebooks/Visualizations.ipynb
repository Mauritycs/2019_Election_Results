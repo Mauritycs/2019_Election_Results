{
 "cells": [
  {
   "cell_type": "code",
   "execution_count": 2,
   "metadata": {},
   "outputs": [],
   "source": [
    "import plotly\n",
    "import plotly.plotly as py\n",
    "import plotly.graph_objs as go\n",
    "\n",
    "import pandas as pd"
   ]
  },
  {
   "cell_type": "code",
   "execution_count": 8,
   "metadata": {},
   "outputs": [],
   "source": [
    "from IPython.core.interactiveshell import InteractiveShell\n",
    "InteractiveShell.ast_node_interactivity = \"all\"\n",
    "# InteractiveShell.ast_node_interactivity = \"last_expr\""
   ]
  },
  {
   "cell_type": "code",
   "execution_count": 3,
   "metadata": {},
   "outputs": [],
   "source": [
    "plotly.tools.set_credentials_file(username='ahmedamdg', api_key='ogfSzyLWtDPni5gfWAPn')"
   ]
  },
  {
   "cell_type": "code",
   "execution_count": 4,
   "metadata": {},
   "outputs": [
    {
     "data": {
      "text/plain": [
       "'3.10.0'"
      ]
     },
     "execution_count": 4,
     "metadata": {},
     "output_type": "execute_result"
    }
   ],
   "source": [
    "plotly.__version__"
   ]
  },
  {
   "cell_type": "code",
   "execution_count": 5,
   "metadata": {},
   "outputs": [],
   "source": [
    "path = '../Data/election_data.csv'\n",
    "election_data = pd.read_csv(path)"
   ]
  },
  {
   "cell_type": "code",
   "execution_count": 9,
   "metadata": {},
   "outputs": [],
   "source": [
    "\n",
    "df = pd.read_csv('https://raw.githubusercontent.com/plotly/datasets/master/2014_us_cities.csv')\n",
    "df.head()\n",
    "\n",
    "df['text'] = df['name'] + '&lt;br&gt;Population ' + (df['pop']/1e6).astype(str)+' million'\n",
    "limits = [(0,2),(3,10),(11,20),(21,50),(50,3000)]\n",
    "colors = [\"rgb(0,116,217)\",\"rgb(255,65,54)\",\"rgb(133,20,75)\",\"rgb(255,133,27)\",\"rgb(255,220,0)\"]\n",
    "cities = []\n",
    "scale = 50000\n",
    "\n",
    "for i in range(len(limits)):\n",
    "    lim = limits[i]\n",
    "    df_sub = df[lim[0]:lim[1]]\n",
    "    city = dict(\n",
    "        type = 'scattergeo',\n",
    "        locationmode = 'USA-states',\n",
    "        lon = df_sub['lon'],\n",
    "        lat = df_sub['lat'],\n",
    "        text = df_sub['text'],\n",
    "        sizemode = 'diameter',\n",
    "        marker = dict( \n",
    "            size = df_sub['pop']/scale, \n",
    "            color = colors[i],\n",
    "            line = dict(width = 2,color = 'black')\n",
    "        ),\n",
    "        name = '{0} - {1}'.format(lim[0],lim[1]) )\n",
    "    cities.append(city)\n",
    "\n",
    "layout = dict(\n",
    "        title = '2014 US city populations&lt;br&gt;(Click legend to toggle traces)',\n",
    "        showlegend = True,\n",
    "        geo = dict(\n",
    "            scope='usa',\n",
    "            projection=dict( type='albers usa' ),\n",
    "            showland = True,\n",
    "            landcolor = 'rgb(217, 217, 217)',       \n",
    "            subunitwidth=1,\n",
    "            countrywidth=1,\n",
    "            subunitcolor=\"rgb(255, 255, 255)\",\n",
    "            countrycolor=\"rgb(255, 255, 255)\"           \n",
    "        ),  \n",
    "    )\n",
    "    \n",
    "fig = dict( data=cities, layout=layout )\n",
    "url = py.plot( fig, validate=False, filename='d3-bubble-map-populations' )"
   ]
  },
  {
   "cell_type": "code",
   "execution_count": 17,
   "metadata": {},
   "outputs": [
    {
     "data": {
      "text/plain": [
       "array(['Guidimagha', 'Tagant', 'Brakna', 'Hodh El Gharbi',\n",
       "       'Dakhlet Nouadhibou', 'Tiris Zemmour', 'Trarza', 'Hodh Chargui',\n",
       "       'Assaba', 'Gorgol', 'Nouakchott Ouest', 'Nouakchott Sud',\n",
       "       'Inchiri', 'Adrar', 'Nouakchott Nord', 'Etranger'], dtype=object)"
      ]
     },
     "execution_count": 17,
     "metadata": {},
     "output_type": "execute_result"
    },
    {
     "data": {
      "text/plain": [
       "array(['Mohamed Cheïkh Mohamed Ahmed ElGHAZOUANI (Ghazouani)',\n",
       "       'Sidi Mohamed Boubacar BOUSSALEF (Boubacar)',\n",
       "       'Biram Dah Dah ABEID (Biram)', 'Mohamed Sidi MAOULOUD (Maouloud)',\n",
       "       'Mohamed Lemine El Mourteji El WAVI (Wavi)',\n",
       "       'KANE Hamidou Baba (Kane)'], dtype=object)"
      ]
     },
     "execution_count": 17,
     "metadata": {},
     "output_type": "execute_result"
    }
   ],
   "source": [
    "# state names \n",
    "states_list = election_data.state.unique()\n",
    "states_list\n",
    "\n",
    "candidates_list = election_data.candidate.unique()\n",
    "candidates_list"
   ]
  },
  {
   "cell_type": "code",
   "execution_count": 16,
   "metadata": {},
   "outputs": [],
   "source": [
    "gaz_state_percts = []\n",
    "boubac_state_percts = []\n",
    "biram_state_percts = []\n",
    "maouloud_state_percts = []\n",
    "wavi_state_percts = []\n",
    "kane_state_percts = []"
   ]
  },
  {
   "cell_type": "code",
   "execution_count": 22,
   "metadata": {},
   "outputs": [
    {
     "data": {
      "text/plain": [
       "0.4168505860421265"
      ]
     },
     "execution_count": 22,
     "metadata": {},
     "output_type": "execute_result"
    }
   ],
   "source": [
    "# df filtered to guidimagha and candidate Ghazwani \n",
    "gaz_guid_df = election_data[(election_data.state == states_list[0]) & (election_data.candidate == candidates_list[0])]\n",
    "\n",
    "gaz_guid_df.candidate_votes.sum() / gaz_guid_df.suffrage.sum()\n",
    "\n",
    "election_data[(election_data.state == states_list[i]) & (election_data.candidate == candidates_list[0])].candidate_votes.sum() / election_data[(election_data.state == states_list[i]) & (election_data.candidate == candidates_list[0])].suffrage.sum()\n",
    "\n"
   ]
  },
  {
   "cell_type": "code",
   "execution_count": 33,
   "metadata": {},
   "outputs": [
    {
     "data": {
      "text/plain": [
       "'KANE Hamidou Baba (Kane)'"
      ]
     },
     "execution_count": 33,
     "metadata": {},
     "output_type": "execute_result"
    }
   ],
   "source": [
    "election_data[(election_data.state == ) & (election_data.candidate == candidates_list[0])].candidate_votes.sum() / election_data[(election_data.state == states_list[i]) & (election_data.candidate == candidates_list[0])].suffrage.sum()\n",
    "\n"
   ]
  },
  {
   "cell_type": "code",
   "execution_count": 48,
   "metadata": {},
   "outputs": [],
   "source": [
    "for i in states_list:\n",
    "    \n",
    "    gaz_state_percts.append(election_data[(election_data.state == i) & (election_data.candidate == candidates_list[0])].candidate_votes.sum() / election_data[(election_data.state == i) & (election_data.candidate == candidates_list[0])].suffrage.sum())\n",
    "    boubac_state_percts.append(election_data[(election_data.state == i) & (election_data.candidate == candidates_list[1])].candidate_votes.sum() / election_data[(election_data.state == i) & (election_data.candidate == candidates_list[1])].suffrage.sum())\n",
    "    biram_state_percts.append(election_data[(election_data.state == i) & (election_data.candidate == candidates_list[2])].candidate_votes.sum() / election_data[(election_data.state == i) & (election_data.candidate == candidates_list[2])].suffrage.sum())\n",
    "    maouloud_state_percts.append(election_data[(election_data.state == i) & (election_data.candidate == candidates_list[3])].candidate_votes.sum() / election_data[(election_data.state == i) & (election_data.candidate == candidates_list[3])].suffrage.sum())\n",
    "    wavi_state_percts.append(election_data[(election_data.state == i) & (election_data.candidate == candidates_list[4])].candidate_votes.sum() / election_data[(election_data.state == i) & (election_data.candidate == candidates_list[4])].suffrage.sum())\n",
    "    kane_state_percts.append(election_data[(election_data.state == i) & (election_data.candidate == candidates_list[5])].candidate_votes.sum() / election_data[(election_data.state == i) & (election_data.candidate == candidates_list[5])].suffrage.sum())\n",
    "    \n",
    "    "
   ]
  },
  {
   "cell_type": "code",
   "execution_count": 49,
   "metadata": {},
   "outputs": [
    {
     "data": {
      "text/plain": [
       "0.42"
      ]
     },
     "execution_count": 49,
     "metadata": {},
     "output_type": "execute_result"
    }
   ],
   "source": [
    "round(gaz_state_percts[0],2)"
   ]
  },
  {
   "cell_type": "code",
   "execution_count": 13,
   "metadata": {},
   "outputs": [],
   "source": [
    "gaz = election_data[(election_data.candidate == candidates_list[0])]"
   ]
  },
  {
   "cell_type": "code",
   "execution_count": 66,
   "metadata": {},
   "outputs": [],
   "source": [
    "# round candidate percentages\n",
    "gaz_rounded = [ str(round(elem*100, 2)) + \"%\" for elem in gaz_state_percts ]\n",
    "boubacar_rounded = [ str(round(elem*100, 2)) + \"%\" for elem in boubac_state_percts ]\n",
    "biram_rounded = [ str(round(elem*100, 2)) + \"%\" for elem in biram_state_percts ]\n",
    "mewloud_rounded = [ str(round(elem*100, 2)) + \"%\" for elem in maouloud_state_percts ]\n",
    "wavi_rounded = [ str(round(elem*100, 2)) + \"%\" for elem in wavi_state_percts ]\n",
    "kane_rounded = [ str(round(elem*100, 2)) + \"%\" for elem in kane_state_percts ]"
   ]
  },
  {
   "cell_type": "markdown",
   "metadata": {},
   "source": [
    "### Dot Plot"
   ]
  },
  {
   "cell_type": "code",
   "execution_count": 69,
   "metadata": {},
   "outputs": [
    {
     "data": {
      "text/html": [
       "<iframe id=\"igraph\" scrolling=\"no\" style=\"border:none;\" seamless=\"seamless\" src=\"https://plot.ly/~ahmedamdg/192.embed\" height=\"600px\" width=\"800px\"></iframe>"
      ],
      "text/plain": [
       "<chart_studio.tools.PlotlyDisplay object>"
      ]
     },
     "execution_count": 69,
     "metadata": {},
     "output_type": "execute_result"
    }
   ],
   "source": [
    "# set states as state list\n",
    "states = states_list\n",
    "\n",
    "ghazwani = gaz_rounded\n",
    "boubacar = boubacar_rounded\n",
    "biram = biram_rounded\n",
    "mewloud = mewloud_rounded\n",
    "wavi = wavi_rounded\n",
    "kane = kane_rounded\n",
    "\n",
    "\n",
    "trace0 = go.Scatter(\n",
    "    x=ghazwani,\n",
    "    y=states,\n",
    "    mode='markers',\n",
    "    name='Ghazouani',\n",
    "    marker=dict(\n",
    "        color='rgba(156, 165, 196, 0.95)',\n",
    "        line=dict(\n",
    "            color='rgba(156, 165, 196, 1.0)',\n",
    "            width=1,\n",
    "        ),\n",
    "        symbol='circle',\n",
    "        size=16,\n",
    "    )\n",
    ")\n",
    "trace1 = go.Scatter(\n",
    "    x=boubacar,\n",
    "    y=states,\n",
    "    mode='markers',\n",
    "    name='Boubacar',\n",
    "    marker=dict(\n",
    "        color='red',\n",
    "        line=dict(\n",
    "            color='rgba(217, 217, 217, 1.0)',\n",
    "            width=1,\n",
    "        ),\n",
    "        symbol='circle',\n",
    "        size=16,\n",
    "    )\n",
    ")\n",
    "\n",
    "trace2 = go.Scatter(\n",
    "    x=biram,\n",
    "    y=states,\n",
    "    mode='markers',\n",
    "    name='Biram',\n",
    "    marker=dict(\n",
    "        color='green',\n",
    "        line=dict(\n",
    "            color='green',\n",
    "            width=1,\n",
    "        ),\n",
    "        symbol='circle',\n",
    "        size=16,\n",
    "    )\n",
    ")\n",
    "\n",
    "trace3 = go.Scatter(\n",
    "    x=mewloud,\n",
    "    y=states,\n",
    "    mode='markers',\n",
    "    name='Maouloud',\n",
    "    marker=dict(\n",
    "        color='white',\n",
    "        line=dict(\n",
    "            color='rgba(217, 217, 217, 1.0)',\n",
    "            width=1,\n",
    "        ),\n",
    "        symbol='circle',\n",
    "        size=16,\n",
    "    )\n",
    ")\n",
    "\n",
    "trace4 = go.Scatter(\n",
    "    x=wavi,\n",
    "    y=states,\n",
    "    mode='markers',\n",
    "    name='Wavi',\n",
    "    marker=dict(\n",
    "        color='purple',\n",
    "        line=dict(\n",
    "            color='rgba(217, 217, 217, 1.0)',\n",
    "            width=1,\n",
    "        ),\n",
    "        symbol='circle',\n",
    "        size=16,\n",
    "    )\n",
    ")\n",
    "\n",
    "trace5 = go.Scatter(\n",
    "    x=kane,\n",
    "    y=states,\n",
    "    mode='markers',\n",
    "    name='Kane',\n",
    "    marker=dict(\n",
    "        color='orange',\n",
    "        line=dict(\n",
    "            color='rgba(217, 217, 217, 1.0)',\n",
    "            width=1,\n",
    "        ),\n",
    "        symbol='circle',\n",
    "        size=16,\n",
    "    )\n",
    ")\n",
    "\n",
    "data = [trace0, trace1, trace2, trace3, trace4, trace5]\n",
    "layout = go.Layout(\n",
    "    title=\"Candidate Percentages by State\",\n",
    "    xaxis=dict(\n",
    "        showgrid=True,\n",
    "        showline=True,\n",
    "        linecolor='rgb(102, 102, 102)',\n",
    "        titlefont=dict(\n",
    "            color='rgb(204, 204, 204)'\n",
    "        ),\n",
    "        tickfont=dict(\n",
    "            color='rgb(102, 102, 102)',\n",
    "        ),\n",
    "        showticklabels=True,\n",
    "        dtick=10,\n",
    "        ticks='outside',\n",
    "        tickcolor='rgb(102, 102, 102)',\n",
    "    ),\n",
    "    margin=dict(\n",
    "        l=140,\n",
    "        r=40,\n",
    "        b=50,\n",
    "        t=80\n",
    "    ),\n",
    "    legend=dict(\n",
    "        font=dict(\n",
    "            size=10,\n",
    "        ),\n",
    "        yanchor='middle',\n",
    "        xanchor='right',\n",
    "    ),\n",
    "    width=800,\n",
    "    height=600,\n",
    "    paper_bgcolor='rgb(254, 247, 234)',\n",
    "    plot_bgcolor='rgb(254, 247, 234)',\n",
    "    hovermode='closest',\n",
    ")\n",
    "fig = go.Figure(data=data, layout=layout)\n",
    "py.iplot(fig, filename='lowest-oecd-votes-cast')"
   ]
  },
  {
   "cell_type": "markdown",
   "metadata": {},
   "source": [
    "### Bar Plot of turnout"
   ]
  },
  {
   "cell_type": "code",
   "execution_count": null,
   "metadata": {},
   "outputs": [],
   "source": []
  }
 ],
 "metadata": {
  "kernelspec": {
   "display_name": "Python 3",
   "language": "python",
   "name": "python3"
  },
  "language_info": {
   "codemirror_mode": {
    "name": "ipython",
    "version": 3
   },
   "file_extension": ".py",
   "mimetype": "text/x-python",
   "name": "python",
   "nbconvert_exporter": "python",
   "pygments_lexer": "ipython3",
   "version": "3.6.8"
  }
 },
 "nbformat": 4,
 "nbformat_minor": 2
}
