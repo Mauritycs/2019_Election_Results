{
 "cells": [
  {
   "cell_type": "code",
   "execution_count": 1,
   "metadata": {},
   "outputs": [],
   "source": [
    "from IPython.core.interactiveshell import InteractiveShell\n",
    "InteractiveShell.ast_node_interactivity = \"all\"\n",
    "# InteractiveShell.ast_node_interactivity = \"last_expr\""
   ]
  },
  {
   "cell_type": "code",
   "execution_count": 29,
   "metadata": {},
   "outputs": [
    {
     "name": "stdout",
     "output_type": "stream",
     "text": [
      "0.9.1\n"
     ]
    }
   ],
   "source": [
    "import pandas as pd\n",
    "import plotly\n",
    "import plotly.plotly as py\n",
    "import plotly.graph_objs as go\n",
    "import os\n",
    "import folium\n",
    "from folium.plugins import HeatMap\n",
    "from folium import IFrame\n",
    "print(folium.__version__)"
   ]
  },
  {
   "cell_type": "code",
   "execution_count": 3,
   "metadata": {},
   "outputs": [],
   "source": [
    "# import data\n",
    "counties_geocodes_df = pd.read_csv('../Data/counties_geocodes.csv').drop(columns=['Unnamed: 0', \n",
    "                                                                                  'index','state_code',\n",
    "                                                                                  'county_code'])\n",
    "counties_summary_2019 = pd.read_csv('../Data/counties_summary.csv')"
   ]
  },
  {
   "cell_type": "code",
   "execution_count": 17,
   "metadata": {},
   "outputs": [],
   "source": [
    "# import states data\n",
    "states_summary_df = pd.read_csv(\"../Data/states_summary.csv\").sort_values(by=['total_registered'], ascending=False)"
   ]
  },
  {
   "cell_type": "code",
   "execution_count": 4,
   "metadata": {},
   "outputs": [
    {
     "data": {
      "text/plain": [
       "array(['Afrique', 'Akjoujt', 'Aleg', 'Amourj', 'Aoujeft', 'Arafat',\n",
       "       'Asie', 'Atar', 'Aïoun', 'Bababé', 'Barkéol', 'Bassiknou',\n",
       "       'Bennechab', 'Bir Moghrein', 'Boghé', 'Boumdeid', 'Boutilimit',\n",
       "       'Chami', 'Chinguitti', 'Dar Naïm', 'Djiguenni', 'El Mina',\n",
       "       'Europe', \"F'Deirick\", 'Ghabou', 'Guerou', 'Kankoussa', 'Kaédi',\n",
       "       'Keur Macène', 'Kiffa', 'Koubenni', 'Ksar', \"M'Bagne\", \"M'Bout\",\n",
       "       'Maghama', 'Magtalahjar', 'Mederdra', 'Monguel', 'Moudjeria',\n",
       "       \"N'beiket Lahwach\", 'Nouadhibou', 'Néma', 'Ouad Naga', 'Ouadane',\n",
       "       'Oualata', 'Ould Yengé', \"R'Kiz\", 'Riyad', 'Rosso', 'Sebkha',\n",
       "       'Sélibaby', 'Tamcheket', 'Tevragh Zeina', 'Teyaret', 'Tichit',\n",
       "       'Tidjikja', 'Timbedra', 'Tintane', 'Toujounine', 'Zoueratt'],\n",
       "      dtype=object)"
      ]
     },
     "execution_count": 4,
     "metadata": {},
     "output_type": "execute_result"
    }
   ],
   "source": [
    "counties_summary_2019.county.unique()"
   ]
  },
  {
   "cell_type": "code",
   "execution_count": 5,
   "metadata": {},
   "outputs": [
    {
     "data": {
      "text/html": [
       "<div>\n",
       "<style scoped>\n",
       "    .dataframe tbody tr th:only-of-type {\n",
       "        vertical-align: middle;\n",
       "    }\n",
       "\n",
       "    .dataframe tbody tr th {\n",
       "        vertical-align: top;\n",
       "    }\n",
       "\n",
       "    .dataframe thead th {\n",
       "        text-align: right;\n",
       "    }\n",
       "</style>\n",
       "<table border=\"1\" class=\"dataframe\">\n",
       "  <thead>\n",
       "    <tr style=\"text-align: right;\">\n",
       "      <th></th>\n",
       "      <th>county</th>\n",
       "      <th>total_registered</th>\n",
       "      <th>voted</th>\n",
       "      <th>void</th>\n",
       "      <th>neutral</th>\n",
       "      <th>suffrage</th>\n",
       "      <th>perct_turnout</th>\n",
       "      <th>biram</th>\n",
       "      <th>kane</th>\n",
       "      <th>ghazouani</th>\n",
       "      <th>wavi</th>\n",
       "      <th>mewloud</th>\n",
       "      <th>boubacar</th>\n",
       "    </tr>\n",
       "  </thead>\n",
       "  <tbody>\n",
       "    <tr>\n",
       "      <th>1</th>\n",
       "      <td>Akjoujt</td>\n",
       "      <td>9661.0</td>\n",
       "      <td>5933.0</td>\n",
       "      <td>95.0</td>\n",
       "      <td>64.0</td>\n",
       "      <td>5774.0</td>\n",
       "      <td>0.614119</td>\n",
       "      <td>300</td>\n",
       "      <td>288</td>\n",
       "      <td>3422</td>\n",
       "      <td>14</td>\n",
       "      <td>128</td>\n",
       "      <td>1622</td>\n",
       "    </tr>\n",
       "    <tr>\n",
       "      <th>2</th>\n",
       "      <td>Aleg</td>\n",
       "      <td>52156.0</td>\n",
       "      <td>32328.0</td>\n",
       "      <td>935.0</td>\n",
       "      <td>137.0</td>\n",
       "      <td>31256.0</td>\n",
       "      <td>0.619833</td>\n",
       "      <td>2324</td>\n",
       "      <td>286</td>\n",
       "      <td>20143</td>\n",
       "      <td>49</td>\n",
       "      <td>427</td>\n",
       "      <td>8027</td>\n",
       "    </tr>\n",
       "    <tr>\n",
       "      <th>3</th>\n",
       "      <td>Amourj</td>\n",
       "      <td>35019.0</td>\n",
       "      <td>20004.0</td>\n",
       "      <td>670.0</td>\n",
       "      <td>68.0</td>\n",
       "      <td>19266.0</td>\n",
       "      <td>0.571233</td>\n",
       "      <td>712</td>\n",
       "      <td>84</td>\n",
       "      <td>16804</td>\n",
       "      <td>56</td>\n",
       "      <td>44</td>\n",
       "      <td>1566</td>\n",
       "    </tr>\n",
       "    <tr>\n",
       "      <th>4</th>\n",
       "      <td>Aoujeft</td>\n",
       "      <td>9479.0</td>\n",
       "      <td>5786.0</td>\n",
       "      <td>70.0</td>\n",
       "      <td>24.0</td>\n",
       "      <td>5692.0</td>\n",
       "      <td>0.610402</td>\n",
       "      <td>75</td>\n",
       "      <td>21</td>\n",
       "      <td>4395</td>\n",
       "      <td>9</td>\n",
       "      <td>396</td>\n",
       "      <td>796</td>\n",
       "    </tr>\n",
       "    <tr>\n",
       "      <th>5</th>\n",
       "      <td>Arafat</td>\n",
       "      <td>64009.0</td>\n",
       "      <td>46354.0</td>\n",
       "      <td>1289.0</td>\n",
       "      <td>508.0</td>\n",
       "      <td>44557.0</td>\n",
       "      <td>0.724179</td>\n",
       "      <td>7486</td>\n",
       "      <td>2859</td>\n",
       "      <td>19730</td>\n",
       "      <td>318</td>\n",
       "      <td>1725</td>\n",
       "      <td>12439</td>\n",
       "    </tr>\n",
       "  </tbody>\n",
       "</table>\n",
       "</div>"
      ],
      "text/plain": [
       "    county  total_registered    voted    void  neutral  suffrage  \\\n",
       "1  Akjoujt            9661.0   5933.0    95.0     64.0    5774.0   \n",
       "2     Aleg           52156.0  32328.0   935.0    137.0   31256.0   \n",
       "3   Amourj           35019.0  20004.0   670.0     68.0   19266.0   \n",
       "4  Aoujeft            9479.0   5786.0    70.0     24.0    5692.0   \n",
       "5   Arafat           64009.0  46354.0  1289.0    508.0   44557.0   \n",
       "\n",
       "   perct_turnout  biram  kane  ghazouani  wavi  mewloud  boubacar  \n",
       "1       0.614119    300   288       3422    14      128      1622  \n",
       "2       0.619833   2324   286      20143    49      427      8027  \n",
       "3       0.571233    712    84      16804    56       44      1566  \n",
       "4       0.610402     75    21       4395     9      396       796  \n",
       "5       0.724179   7486  2859      19730   318     1725     12439  "
      ]
     },
     "execution_count": 5,
     "metadata": {},
     "output_type": "execute_result"
    }
   ],
   "source": [
    "# drop overseas locations \n",
    "to_drop = ['Afrique', 'Asie', 'Europe']\n",
    "mr_counties_summary = counties_summary_2019[~counties_summary_2019['county'].isin(to_drop)]\n",
    "mr_counties_summary.head()"
   ]
  },
  {
   "cell_type": "code",
   "execution_count": 6,
   "metadata": {},
   "outputs": [
    {
     "data": {
      "text/html": [
       "<div>\n",
       "<style scoped>\n",
       "    .dataframe tbody tr th:only-of-type {\n",
       "        vertical-align: middle;\n",
       "    }\n",
       "\n",
       "    .dataframe tbody tr th {\n",
       "        vertical-align: top;\n",
       "    }\n",
       "\n",
       "    .dataframe thead th {\n",
       "        text-align: right;\n",
       "    }\n",
       "</style>\n",
       "<table border=\"1\" class=\"dataframe\">\n",
       "  <thead>\n",
       "    <tr style=\"text-align: right;\">\n",
       "      <th></th>\n",
       "      <th>county</th>\n",
       "      <th>lat</th>\n",
       "      <th>lng</th>\n",
       "    </tr>\n",
       "  </thead>\n",
       "  <tbody>\n",
       "    <tr>\n",
       "      <th>0</th>\n",
       "      <td>Néma</td>\n",
       "      <td>16.614370</td>\n",
       "      <td>-7.259891</td>\n",
       "    </tr>\n",
       "    <tr>\n",
       "      <th>1</th>\n",
       "      <td>Amourj</td>\n",
       "      <td>15.848233</td>\n",
       "      <td>-7.265286</td>\n",
       "    </tr>\n",
       "    <tr>\n",
       "      <th>2</th>\n",
       "      <td>Bassiknou</td>\n",
       "      <td>15.861876</td>\n",
       "      <td>-5.954182</td>\n",
       "    </tr>\n",
       "    <tr>\n",
       "      <th>3</th>\n",
       "      <td>Djiguenni</td>\n",
       "      <td>15.893680</td>\n",
       "      <td>-8.572102</td>\n",
       "    </tr>\n",
       "    <tr>\n",
       "      <th>4</th>\n",
       "      <td>Timbedra</td>\n",
       "      <td>16.241659</td>\n",
       "      <td>-8.172099</td>\n",
       "    </tr>\n",
       "  </tbody>\n",
       "</table>\n",
       "</div>"
      ],
      "text/plain": [
       "      county        lat       lng\n",
       "0       Néma  16.614370 -7.259891\n",
       "1     Amourj  15.848233 -7.265286\n",
       "2  Bassiknou  15.861876 -5.954182\n",
       "3  Djiguenni  15.893680 -8.572102\n",
       "4   Timbedra  16.241659 -8.172099"
      ]
     },
     "execution_count": 6,
     "metadata": {},
     "output_type": "execute_result"
    }
   ],
   "source": [
    "counties_geocodes_df.head()"
   ]
  },
  {
   "cell_type": "code",
   "execution_count": 7,
   "metadata": {},
   "outputs": [],
   "source": [
    "# concat two dataframes \n",
    "mr_counties_data = pd.merge(counties_geocodes_df, mr_counties_summary, on='county', how='outer')\n",
    "mr_counties_data['total_registered'] = mr_counties_data['total_registered'].apply(lambda x: x*100)"
   ]
  },
  {
   "cell_type": "code",
   "execution_count": 8,
   "metadata": {},
   "outputs": [],
   "source": [
    "def generateBaseMap(default_location=[18.440050, -9.495773], default_zoom_start=6):\n",
    "    base_map = folium.Map(location=default_location, control_scale=True, zoom_start=default_zoom_start)\n",
    "    return base_map"
   ]
  },
  {
   "cell_type": "code",
   "execution_count": 25,
   "metadata": {},
   "outputs": [
    {
     "data": {
      "text/html": [
       "<div style=\"width:100%;\"><div style=\"position:relative;width:100%;height:0;padding-bottom:60%;\"><iframe src=\"data:text/html;charset=utf-8;base64,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\" style=\"position:absolute;width:100%;height:100%;left:0;top:0;border:none !important;\" allowfullscreen webkitallowfullscreen mozallowfullscreen></iframe></div></div>"
      ],
      "text/plain": [
       "<folium.folium.Map at 0x11de10940>"
      ]
     },
     "execution_count": 25,
     "metadata": {},
     "output_type": "execute_result"
    }
   ],
   "source": [
    "base_map = generateBaseMap()\n",
    "m= HeatMap(data=mr_counties_data[['lat', 'lng', 'total_registered']].groupby(['lat', 'lng']).sum().reset_index().values.tolist(), radius=15, max_zoom=30).add_to(base_map)\n",
    "base_map"
   ]
  },
  {
   "cell_type": "code",
   "execution_count": 26,
   "metadata": {},
   "outputs": [],
   "source": [
    "# m.save('../Data/folium.html')"
   ]
  }
 ],
 "metadata": {
  "kernelspec": {
   "display_name": "Python 3",
   "language": "python",
   "name": "python3"
  },
  "language_info": {
   "codemirror_mode": {
    "name": "ipython",
    "version": 3
   },
   "file_extension": ".py",
   "mimetype": "text/x-python",
   "name": "python",
   "nbconvert_exporter": "python",
   "pygments_lexer": "ipython3",
   "version": "3.6.8"
  }
 },
 "nbformat": 4,
 "nbformat_minor": 2
}
